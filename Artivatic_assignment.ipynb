{
  "nbformat": 4,
  "nbformat_minor": 0,
  "metadata": {
    "colab": {
      "name": "Artivatic_assignment.ipynb",
      "provenance": [],
      "machine_shape": "hm"
    },
    "kernelspec": {
      "name": "python3",
      "display_name": "Python 3"
    },
    "language_info": {
      "name": "python"
    },
    "accelerator": "GPU"
  },
  "cells": [
    {
      "cell_type": "markdown",
      "metadata": {
        "id": "ZVL0Fwojnl-l"
      },
      "source": [
        "# Artivatic Assignment task"
      ]
    },
    {
      "cell_type": "markdown",
      "metadata": {
        "id": "m8OUmnJAg5cn"
      },
      "source": [
        "## Deep Learning Model 1"
      ]
    },
    {
      "cell_type": "code",
      "metadata": {
        "colab": {
          "base_uri": "https://localhost:8080/"
        },
        "id": "JL6yoXEBTi1r",
        "outputId": "49323962-effd-4e3a-909f-6190fc4d6772"
      },
      "source": [
        "from google.colab import drive\n",
        "drive.mount('/content/drive', force_remount=True)"
      ],
      "execution_count": 1,
      "outputs": [
        {
          "output_type": "stream",
          "name": "stdout",
          "text": [
            "Mounted at /content/drive\n"
          ]
        }
      ]
    },
    {
      "cell_type": "code",
      "metadata": {
        "colab": {
          "base_uri": "https://localhost:8080/"
        },
        "id": "YAXdlbEnU6Cm",
        "outputId": "eaa845d6-5197-4d21-9f52-7ad6274c50c7"
      },
      "source": [
        "cd drive/MyDrive/ML_Artivatic_dataset/ML_Artivatic_dataset"
      ],
      "execution_count": 3,
      "outputs": [
        {
          "output_type": "stream",
          "name": "stdout",
          "text": [
            "/content/drive/MyDrive/ML_Artivatic_dataset/ML_Artivatic_dataset\n"
          ]
        }
      ]
    },
    {
      "cell_type": "code",
      "metadata": {
        "colab": {
          "base_uri": "https://localhost:8080/"
        },
        "id": "VR_0zKs4U_ky",
        "outputId": "79c06a13-48fb-437f-a3e8-6633f281d1c1"
      },
      "source": [
        "#Loading the required libraries\n",
        "import numpy as np\n",
        "import pandas as pd\n",
        "import seaborn as sns\n",
        "\n",
        "# TensorFlow and tf.keras\n",
        "import tensorflow as tf\n",
        "from tensorflow import keras\n",
        "from tensorflow.keras import layers\n",
        "\n",
        "# Helper libraries\n",
        "import numpy as np\n",
        "import matplotlib.pyplot as plt\n",
        "\n",
        "from sklearn.model_selection import train_test_split\n",
        "\n",
        "print(tf.__version__)\n",
        "\n",
        "from tensorflow.keras.preprocessing.text import Tokenizer\n",
        "from tensorflow.keras.preprocessing.sequence import pad_sequences\n",
        "\n",
        "import os\n",
        "import datetime\n",
        "\n",
        "from tensorflow.keras.utils import to_categorical"
      ],
      "execution_count": 4,
      "outputs": [
        {
          "output_type": "stream",
          "name": "stdout",
          "text": [
            "2.6.0\n"
          ]
        }
      ]
    },
    {
      "cell_type": "code",
      "metadata": {
        "id": "eNRTwZTMoPW4"
      },
      "source": [
        "df = pd.read_csv(\"train_indessa.csv\")"
      ],
      "execution_count": 5,
      "outputs": []
    },
    {
      "cell_type": "code",
      "metadata": {
        "id": "hxNCaHQMxqJM"
      },
      "source": [
        "Y = df['loan_status']"
      ],
      "execution_count": 6,
      "outputs": []
    },
    {
      "cell_type": "code",
      "metadata": {
        "colab": {
          "base_uri": "https://localhost:8080/"
        },
        "id": "VKhRd0QQwIxc",
        "outputId": "39cefc30-7bfb-46a2-aca9-7bc8d4d60466"
      },
      "source": [
        "df.isna().sum()"
      ],
      "execution_count": 7,
      "outputs": [
        {
          "output_type": "execute_result",
          "data": {
            "text/plain": [
              "member_id                           0\n",
              "loan_amnt                           0\n",
              "funded_amnt                         0\n",
              "funded_amnt_inv                     0\n",
              "term                                0\n",
              "batch_enrolled                  85149\n",
              "int_rate                            0\n",
              "grade                               0\n",
              "sub_grade                           0\n",
              "emp_title                       30833\n",
              "emp_length                      26891\n",
              "home_ownership                      0\n",
              "annual_inc                          3\n",
              "verification_status                 0\n",
              "pymnt_plan                          0\n",
              "desc                           456829\n",
              "purpose                             0\n",
              "title                              90\n",
              "zip_code                            0\n",
              "addr_state                          0\n",
              "dti                                 0\n",
              "delinq_2yrs                        16\n",
              "inq_last_6mths                     16\n",
              "mths_since_last_delinq         272554\n",
              "mths_since_last_record         450305\n",
              "open_acc                           16\n",
              "pub_rec                            16\n",
              "revol_bal                           0\n",
              "revol_util                        287\n",
              "total_acc                          16\n",
              "initial_list_status                 0\n",
              "total_rec_int                       0\n",
              "total_rec_late_fee                  0\n",
              "recoveries                          0\n",
              "collection_recovery_fee             0\n",
              "collections_12_mths_ex_med         95\n",
              "mths_since_last_major_derog    399448\n",
              "application_type                    0\n",
              "verification_status_joint      532123\n",
              "last_week_pay                       0\n",
              "acc_now_delinq                     16\n",
              "tot_coll_amt                    42004\n",
              "tot_cur_bal                     42004\n",
              "total_rev_hi_lim                42004\n",
              "loan_status                         0\n",
              "dtype: int64"
            ]
          },
          "metadata": {},
          "execution_count": 7
        }
      ]
    },
    {
      "cell_type": "code",
      "metadata": {
        "id": "pkYLyA4CxFZi"
      },
      "source": [
        "df['desc'] = df['desc'].fillna(\"not mentioned\")\n",
        "\n",
        "# In the original dataset \"4\" indicates the pet was not adopted.\n",
        "df['desc'] = np.where(df['desc'] == \"not mentioned\", 0, 1)\n",
        "\n"
      ],
      "execution_count": 8,
      "outputs": []
    },
    {
      "cell_type": "code",
      "metadata": {
        "id": "jumYAKiexTej"
      },
      "source": [
        "# Drop un-used columns.\n",
        "df = df.drop(columns=['loan_amnt', 'member_id', 'funded_amnt','mths_since_last_delinq','mths_since_last_record', 'verification_status_joint', 'mths_since_last_major_derog'])"
      ],
      "execution_count": 9,
      "outputs": []
    },
    {
      "cell_type": "code",
      "metadata": {
        "colab": {
          "base_uri": "https://localhost:8080/",
          "height": 355
        },
        "id": "YYjZjBT_uUyd",
        "outputId": "eb1c2adb-c650-45d9-dc15-22117608a1a5"
      },
      "source": [
        "#Count for each labels\n",
        "plt.title('No of Datapoints per Loan_Status', fontsize=15)\n",
        "sns.countplot(df.loan_status)\n",
        "plt.xticks()\n",
        "plt.show()"
      ],
      "execution_count": 6,
      "outputs": [
        {
          "output_type": "stream",
          "name": "stderr",
          "text": [
            "/usr/local/lib/python3.7/dist-packages/seaborn/_decorators.py:43: FutureWarning: Pass the following variable as a keyword arg: x. From version 0.12, the only valid positional argument will be `data`, and passing other arguments without an explicit keyword will result in an error or misinterpretation.\n",
            "  FutureWarning\n"
          ]
        },
        {
          "output_type": "display_data",
          "data": {
            "image/png": "[encoded data removed]",
            "text/plain": [
              "<Figure size 432x288 with 1 Axes>"
            ]
          },
          "metadata": {
            "needs_background": "light"
          }
        }
      ]
    },
    {
      "cell_type": "markdown",
      "metadata": {
        "id": "JEi4JYkUWptw"
      },
      "source": [
        "Inference: We have partial imbalanced data."
      ]
    },
    {
      "cell_type": "code",
      "metadata": {
        "colab": {
          "base_uri": "https://localhost:8080/",
          "height": 354
        },
        "id": "v1IbWu85tm88",
        "outputId": "a82b9599-e0d2-4cb5-bf76-da070ae6ea5e"
      },
      "source": [
        "#Count for data points term wise\n",
        "plt.title('No of Datapoints per Loan tterm period', fontsize=15)\n",
        "sns.countplot(df.term)\n",
        "plt.xticks()\n",
        "plt.show()"
      ],
      "execution_count": 8,
      "outputs": [
        {
          "output_type": "stream",
          "name": "stderr",
          "text": [
            "/usr/local/lib/python3.7/dist-packages/seaborn/_decorators.py:43: FutureWarning: Pass the following variable as a keyword arg: x. From version 0.12, the only valid positional argument will be `data`, and passing other arguments without an explicit keyword will result in an error or misinterpretation.\n",
            "  FutureWarning\n"
          ]
        },
        {
          "output_type": "display_data",
          "data": {
            "image/png": "[encoded data removed]",
            "text/plain": [
              "<Figure size 432x288 with 1 Axes>"
            ]
          },
          "metadata": {
            "needs_background": "light"
          }
        }
      ]
    },
    {
      "cell_type": "code",
      "metadata": {
        "id": "Lko1FAP9FeQe"
      },
      "source": [
        "#get the row count to put on category axis.\n",
        "row  = []\n",
        "\n",
        "for i in range(len(df['funded_amnt_inv'].to_list())):\n",
        "  row.append(i)"
      ],
      "execution_count": 10,
      "outputs": []
    },
    {
      "cell_type": "code",
      "metadata": {
        "colab": {
          "base_uri": "https://localhost:8080/"
        },
        "id": "k43KKLZzwO1d",
        "outputId": "5875a5ab-535d-40e8-a60f-87549267f877"
      },
      "source": [
        "#unique counts of batch set\n",
        "print(\"Unique count of batch enrolled\")\n",
        "print(len(set(df['batch_enrolled'].to_list())))\n",
        "print(\"-\"*20)\n",
        "\n",
        "print(\"Unique Values for grade\")\n",
        "print(len(set(df['grade'].to_list())))\n",
        "print(\"-\"*20)\n",
        "\n",
        "print(\"Unique Values for sub grade\")\n",
        "print(len(set(df['sub_grade'].to_list())))\n",
        "print(\"-\"*20)\n",
        "\n",
        "print(\"Unique Values of Employee title\")\n",
        "print(len(set(df['emp_title'].to_list())))\n",
        "print(\"-\"*20)\n",
        "\n",
        "print(\"Unique Values of Emp length\")\n",
        "print(len(set(df['emp_length'].to_list())))\n",
        "print(\"-\"*20)\n",
        "\n",
        "print(\"Unique Values of Home Ownership\")\n",
        "print(len(set(df['home_ownership'].to_list())))\n",
        "print(\"-\"*20)\n",
        "\n",
        "print(\"Unique Values of Verification Status\")\n",
        "print(len(set(df['verification_status'].to_list())))\n",
        "print(\"-\"*20)\n",
        "\n",
        "print(\"Unique Values of Payment plan\")\n",
        "print(len(set(df['pymnt_plan'].to_list())))\n",
        "print(\"-\"*20)\n",
        "\n",
        "print(\"Unique Values of purpose\")\n",
        "print(len(set(df['purpose'].to_list())))\n",
        "print(\"-\"*20)\n",
        "\n",
        "print(\"Unique Values of title\")\n",
        "print(len(set(df['title'].to_list())))\n",
        "print(\"-\"*20)\n",
        "\n",
        "print(\"Unique Values of Payment plan\")\n",
        "print(len(set(df['pymnt_plan'].to_list())))\n",
        "print(\"-\"*20)\n",
        "\n",
        "print(\"Unique Values of zip_code\")\n",
        "print(len(set(df['zip_code'].to_list())))\n",
        "print(\"-\"*20)\n",
        "\n",
        "\n",
        "print(\"Unique Values of addr_state\")\n",
        "print(len(set(df['addr_state'].to_list())))\n",
        "print(\"-\"*20)\n",
        "\n",
        "\n",
        "print(\"Unique Values of initial_list_status\")\n",
        "print(len(set(df['initial_list_status'].to_list())))\n",
        "print(\"-\"*20)\n",
        "\n",
        "\n",
        "print(\"Unique Values of application_type\")\n",
        "print(len(set(df['application_type'].to_list())))\n",
        "print(\"-\"*20)\n",
        "\n",
        "\n",
        "print(\"Unique Values of last_week_pay\")\n",
        "print(len(set(df['last_week_pay'].to_list())))\n",
        "print(\"-\"*20)\n",
        "\n",
        "print(\"Unique Values of initial_list_status\")\n",
        "print(len(set(df['initial_list_status'].to_list())))\n",
        "print(\"-\"*20)\n",
        "\n",
        "print(\"Unique Values of descr\")\n",
        "print(len(set(df['desc'].to_list())))\n",
        "print(\"-\"*20)"
      ],
      "execution_count": 10,
      "outputs": [
        {
          "output_type": "stream",
          "name": "stdout",
          "text": [
            "Unique count of batch enrolled\n",
            "105\n",
            "--------------------\n",
            "Unique Values for grade\n",
            "7\n",
            "--------------------\n",
            "Unique Values for sub grade\n",
            "35\n",
            "--------------------\n",
            "Unique Values of Employee title\n",
            "190125\n",
            "--------------------\n",
            "Unique Values of Emp length\n",
            "12\n",
            "--------------------\n",
            "Unique Values of Home Ownership\n",
            "6\n",
            "--------------------\n",
            "Unique Values of Verification Status\n",
            "3\n",
            "--------------------\n",
            "Unique Values of Payment plan\n",
            "2\n",
            "--------------------\n",
            "Unique Values of purpose\n",
            "14\n",
            "--------------------\n",
            "Unique Values of title\n",
            "39694\n",
            "--------------------\n",
            "Unique Values of Payment plan\n",
            "2\n",
            "--------------------\n",
            "Unique Values of zip_code\n",
            "917\n",
            "--------------------\n",
            "Unique Values of addr_state\n",
            "51\n",
            "--------------------\n",
            "Unique Values of initial_list_status\n",
            "2\n",
            "--------------------\n",
            "Unique Values of application_type\n",
            "2\n",
            "--------------------\n",
            "Unique Values of last_week_pay\n",
            "98\n",
            "--------------------\n",
            "Unique Values of initial_list_status\n",
            "2\n",
            "--------------------\n",
            "Unique Values of descr\n",
            "2\n",
            "--------------------\n"
          ]
        }
      ]
    },
    {
      "cell_type": "markdown",
      "metadata": {
        "id": "3VjWxMAR7h_s"
      },
      "source": [
        "Inference: \n",
        "1. title, employee_title, and zip codes consist of large unique values.\n",
        "2. Last week pay can be converted to Interger by just having the week number."
      ]
    },
    {
      "cell_type": "code",
      "metadata": {
        "id": "Gs0V1DDjAtaU"
      },
      "source": [
        "#Convert the Last week pay to integer\n",
        "new_set = [x.replace('th week', '') for x in df['last_week_pay'].to_list()]\n",
        "\n",
        "new_set_ = []\n",
        "\n",
        "for ele in new_set:\n",
        "  if ele == 'NA':\n",
        "    ele = None\n",
        "    new_set_.append(0)\n",
        "  elif ele is not None:    \n",
        "    new_set_.append(int(ele))\n",
        "  else:    \n",
        "    new_set_.append(0)\n",
        "\n",
        "df['last_week_pay'] = new_set_"
      ],
      "execution_count": 102,
      "outputs": []
    },
    {
      "cell_type": "code",
      "metadata": {
        "colab": {
          "base_uri": "https://localhost:8080/"
        },
        "id": "pVzII3hgCtJi",
        "outputId": "e4a49592-10e2-4a8a-c3ab-da70b2bb8857"
      },
      "source": [
        "#for zip codes, last two  values are hidden. So let just take first two values only and convert this to categorical feature.\n",
        "from sklearn.preprocessing import OneHotEncoder\n",
        "\n",
        "print(\"Sum of null values n zip code\")\n",
        "print(df['zip_code'].isna().sum())\n",
        "\n",
        "zip = []\n",
        "for i in df['zip_code']:\n",
        "  temp = i[0:2]\n",
        "  zip.append(temp)\n",
        "\n",
        "df['zip_code'] = zip"
      ],
      "execution_count": 11,
      "outputs": [
        {
          "output_type": "stream",
          "name": "stdout",
          "text": [
            "Sum of null values n zip code\n",
            "0\n"
          ]
        }
      ]
    },
    {
      "cell_type": "code",
      "metadata": {
        "id": "WiLQszNrz6nd"
      },
      "source": [
        "df['batch_enrolled'] = df['batch_enrolled'].fillna(\"not applicable\")\n",
        "df['emp_title'] = df['emp_title'].fillna(\"not applicable\")\n",
        "df['emp_length'] = df['emp_length'].fillna(\"not applicable\")\n",
        "df['title'] = df['title'].fillna(\"not applicable\")"
      ],
      "execution_count": 12,
      "outputs": []
    },
    {
      "cell_type": "code",
      "metadata": {
        "colab": {
          "base_uri": "https://localhost:8080/",
          "height": 265
        },
        "id": "XwsGFmbK1NlJ",
        "outputId": "a4119cad-e333-4725-93dd-21dc5e044cbb"
      },
      "source": [
        "import matplotlib.pyplot as plt\n",
        "y1 = np.asarray(df['tot_coll_amt'])\n",
        "row_ = np.asarray(row)\n",
        "plt.plot(row_, y1,\"-\")\n",
        "plt.show()"
      ],
      "execution_count": 280,
      "outputs": [
        {
          "output_type": "display_data",
          "data": {
            "image/png": "[encoded data removed]",
            "text/plain": [
              "<Figure size 432x288 with 1 Axes>"
            ]
          },
          "metadata": {
            "needs_background": "light"
          }
        }
      ]
    },
    {
      "cell_type": "code",
      "metadata": {
        "colab": {
          "base_uri": "https://localhost:8080/",
          "height": 276
        },
        "id": "KtjklyQv3Vwl",
        "outputId": "170b7879-f7e8-4b4f-c2f7-94f2b8672eae"
      },
      "source": [
        "import matplotlib.pyplot as plt\n",
        "y2 = np.asarray(df['tot_cur_bal'])\n",
        "row_ = np.asarray(row)\n",
        "plt.plot(row_, y2,\"-\")\n",
        "plt.show()"
      ],
      "execution_count": 281,
      "outputs": [
        {
          "output_type": "display_data",
          "data": {
            "image/png": "[encoded data removed]",
            "text/plain": [
              "<Figure size 432x288 with 1 Axes>"
            ]
          },
          "metadata": {
            "needs_background": "light"
          }
        }
      ]
    },
    {
      "cell_type": "code",
      "metadata": {
        "colab": {
          "base_uri": "https://localhost:8080/",
          "height": 276
        },
        "id": "Nyva-rfI3Wf0",
        "outputId": "dd32a467-2ef9-46a7-815a-5e5d329ffbff"
      },
      "source": [
        "import matplotlib.pyplot as plt\n",
        "y3 = np.asarray(df['total_rev_hi_lim'])\n",
        "row_ = np.asarray(row)\n",
        "plt.plot(row_, y3,\"-\")\n",
        "plt.show()"
      ],
      "execution_count": 282,
      "outputs": [
        {
          "output_type": "display_data",
          "data": {
            "image/png": "[encoded data removed]",
            "text/plain": [
              "<Figure size 432x288 with 1 Axes>"
            ]
          },
          "metadata": {
            "needs_background": "light"
          }
        }
      ]
    },
    {
      "cell_type": "code",
      "metadata": {
        "id": "gCUnJyTcF0bo"
      },
      "source": [
        "#drop the label\n",
        "label = df['loan_status']\n",
        "df = df.drop('loan_status', 1)\n",
        "\n",
        "#drop member_id\n",
        "df = df.drop('member_id', 1)"
      ],
      "execution_count": 105,
      "outputs": []
    },
    {
      "cell_type": "code",
      "metadata": {
        "id": "DuRyLcrYX9vR"
      },
      "source": [
        "#drop the desc column\n",
        "#df = df.drop('desc', 1)"
      ],
      "execution_count": 106,
      "outputs": []
    },
    {
      "cell_type": "code",
      "metadata": {
        "id": "8dLE79e_Kf-F"
      },
      "source": [
        "#fill the null values in title and emp_title with 'not applicable'\n",
        "import re\n",
        "\n",
        "\n",
        "title = []\n",
        "emp_title = []\n",
        "\n",
        "\n",
        "#preprcess the values in title and emp_title\n",
        "for text in df['title']:\n",
        "  \n",
        "  if text is not None:\n",
        "    text = re.sub('[^A-Za-z]+', ' ', str(text))\n",
        "    text = ' '.join(e.lower() for e in text.split())\n",
        "  title.append(text)\n",
        "\n",
        "for text in df['emp_title']:\n",
        "  \n",
        "  if text is not None:\n",
        "    text = re.sub('[^A-Za-z]+', ' ', str(text))\n",
        "    text = ' '.join(e.lower() for e in text.split())\n",
        "  emp_title.append(text)"
      ],
      "execution_count": 16,
      "outputs": []
    },
    {
      "cell_type": "code",
      "metadata": {
        "id": "RGUvZ7eoLQvw"
      },
      "source": [
        "#assign the preprocessed values to the columns\n",
        "\n",
        "df['title'] = title\n",
        "df['emp_title'] = emp_title"
      ],
      "execution_count": 17,
      "outputs": []
    },
    {
      "cell_type": "code",
      "metadata": {
        "colab": {
          "base_uri": "https://localhost:8080/"
        },
        "id": "j9EmHFZ74oO1",
        "outputId": "38fd7e09-cab1-44f3-e54b-aa7703ecfd7a"
      },
      "source": [
        "df[(df['tot_coll_amt'].isna())&(df['tot_cur_bal'].isna())&(df['total_rev_hi_lim'].isna())].shape"
      ],
      "execution_count": 18,
      "outputs": [
        {
          "output_type": "execute_result",
          "data": {
            "text/plain": [
              "(42004, 37)"
            ]
          },
          "metadata": {},
          "execution_count": 18
        }
      ]
    },
    {
      "cell_type": "code",
      "metadata": {
        "id": "7qxLzQeu5X8E"
      },
      "source": [
        "\n",
        "df['tot_coll_amt'] = df['tot_coll_amt'].fillna(-1)\n",
        "df['tot_cur_bal'] = df['tot_cur_bal'].fillna(-1)\n",
        "df['total_rev_hi_lim'] = df['total_rev_hi_lim'].fillna(-1)"
      ],
      "execution_count": 19,
      "outputs": []
    },
    {
      "cell_type": "code",
      "metadata": {
        "id": "sNiSV8rt5-CS"
      },
      "source": [
        "df['delinq_2yrs'] = df['delinq_2yrs'].fillna(-1)\n",
        "df['inq_last_6mths'] = df['inq_last_6mths'].fillna(-1)\n",
        "df['open_acc'] = df['open_acc'].fillna(-1)\n",
        "\n",
        "df['pub_rec'] = df['pub_rec'].fillna(-1)\n",
        "df['revol_util'] = df['revol_util'].fillna(-1)\n",
        "df['total_acc'] = df['total_acc'].fillna(-1)\n",
        "\n",
        "df['collections_12_mths_ex_med'] = df['collections_12_mths_ex_med'].fillna(-1)\n",
        "df['acc_now_delinq'] = df['acc_now_delinq'].fillna(-1)"
      ],
      "execution_count": 20,
      "outputs": []
    },
    {
      "cell_type": "code",
      "metadata": {
        "colab": {
          "base_uri": "https://localhost:8080/"
        },
        "id": "dLEo4IsyXgwD",
        "outputId": "65f1055a-2c82-4c9e-c9e2-e2c5456737dc"
      },
      "source": [
        "print(\"Print the count of NULL values for all the columns\\n\")\n",
        "print(df.isna().sum())"
      ],
      "execution_count": 24,
      "outputs": [
        {
          "output_type": "stream",
          "name": "stdout",
          "text": [
            "Print the count of NULL values for all the columns\n",
            "\n",
            "funded_amnt_inv               0\n",
            "term                          0\n",
            "batch_enrolled                0\n",
            "int_rate                      0\n",
            "grade                         0\n",
            "sub_grade                     0\n",
            "emp_title                     0\n",
            "emp_length                    0\n",
            "home_ownership                0\n",
            "annual_inc                    0\n",
            "verification_status           0\n",
            "pymnt_plan                    0\n",
            "desc                          0\n",
            "purpose                       0\n",
            "title                         0\n",
            "zip_code                      0\n",
            "addr_state                    0\n",
            "dti                           0\n",
            "delinq_2yrs                   0\n",
            "inq_last_6mths                0\n",
            "open_acc                      0\n",
            "pub_rec                       0\n",
            "revol_bal                     0\n",
            "revol_util                    0\n",
            "total_acc                     0\n",
            "initial_list_status           0\n",
            "total_rec_int                 0\n",
            "total_rec_late_fee            0\n",
            "recoveries                    0\n",
            "collection_recovery_fee       0\n",
            "collections_12_mths_ex_med    0\n",
            "application_type              0\n",
            "last_week_pay                 0\n",
            "acc_now_delinq                0\n",
            "tot_coll_amt                  0\n",
            "tot_cur_bal                   0\n",
            "total_rev_hi_lim              0\n",
            "dtype: int64\n"
          ]
        }
      ]
    },
    {
      "cell_type": "markdown",
      "metadata": {
        "id": "SjsXayJXbt7O"
      },
      "source": [
        "Initial Observation: \n",
        "1. emp_length, batch_enrolled, and verification_status_joint have null values which we can replace with 'not applicable'\n",
        "2. The remaining columns where NULL value exists are the numerical columns which we would need to analyze for filling the mising values"
      ]
    },
    {
      "cell_type": "code",
      "metadata": {
        "id": "2VdoH1emcIXe"
      },
      "source": [
        "# 1. Filling the missing values in categorical column\n",
        "\"\"\"\n",
        "df['emp_length'] = df['emp_length'].fillna(\"not applicable\")\n",
        "df['batch_enrolled'] = df['batch_enrolled'].fillna(\"not applicable\")\n",
        "df['verification_status_joint'] = df['verification_status_joint'].fillna(\"not applicable\")\n",
        "\"\"\""
      ],
      "execution_count": 110,
      "outputs": []
    },
    {
      "cell_type": "code",
      "metadata": {
        "colab": {
          "base_uri": "https://localhost:8080/",
          "height": 266
        },
        "id": "G2YNnwCYZJII",
        "outputId": "cb69fd3f-e1d9-4e65-f5ea-1361f521221d"
      },
      "source": [
        "#Analyzing missing values for annaul_income\n",
        "df[df['annual_inc'].isna()]"
      ],
      "execution_count": 22,
      "outputs": [
        {
          "output_type": "execute_result",
          "data": {
            "text/html": [
              "<div>\n",
              "<style scoped>\n",
              "    .dataframe tbody tr th:only-of-type {\n",
              "        vertical-align: middle;\n",
              "    }\n",
              "\n",
              "    .dataframe tbody tr th {\n",
              "        vertical-align: top;\n",
              "    }\n",
              "\n",
              "    .dataframe thead th {\n",
              "        text-align: right;\n",
              "    }\n",
              "</style>\n",
              "<table border=\"1\" class=\"dataframe\">\n",
              "  <thead>\n",
              "    <tr style=\"text-align: right;\">\n",
              "      <th></th>\n",
              "      <th>funded_amnt_inv</th>\n",
              "      <th>term</th>\n",
              "      <th>batch_enrolled</th>\n",
              "      <th>int_rate</th>\n",
              "      <th>grade</th>\n",
              "      <th>sub_grade</th>\n",
              "      <th>emp_title</th>\n",
              "      <th>emp_length</th>\n",
              "      <th>home_ownership</th>\n",
              "      <th>annual_inc</th>\n",
              "      <th>verification_status</th>\n",
              "      <th>pymnt_plan</th>\n",
              "      <th>desc</th>\n",
              "      <th>purpose</th>\n",
              "      <th>title</th>\n",
              "      <th>zip_code</th>\n",
              "      <th>addr_state</th>\n",
              "      <th>dti</th>\n",
              "      <th>delinq_2yrs</th>\n",
              "      <th>inq_last_6mths</th>\n",
              "      <th>open_acc</th>\n",
              "      <th>pub_rec</th>\n",
              "      <th>revol_bal</th>\n",
              "      <th>revol_util</th>\n",
              "      <th>total_acc</th>\n",
              "      <th>initial_list_status</th>\n",
              "      <th>total_rec_int</th>\n",
              "      <th>total_rec_late_fee</th>\n",
              "      <th>recoveries</th>\n",
              "      <th>collection_recovery_fee</th>\n",
              "      <th>collections_12_mths_ex_med</th>\n",
              "      <th>application_type</th>\n",
              "      <th>last_week_pay</th>\n",
              "      <th>acc_now_delinq</th>\n",
              "      <th>tot_coll_amt</th>\n",
              "      <th>tot_cur_bal</th>\n",
              "      <th>total_rev_hi_lim</th>\n",
              "    </tr>\n",
              "  </thead>\n",
              "  <tbody>\n",
              "    <tr>\n",
              "      <th>170053</th>\n",
              "      <td>0.0</td>\n",
              "      <td>36 months</td>\n",
              "      <td>BAT2331079</td>\n",
              "      <td>8.38</td>\n",
              "      <td>A</td>\n",
              "      <td>A5</td>\n",
              "      <td>not applicable</td>\n",
              "      <td>&lt; 1 year</td>\n",
              "      <td>NONE</td>\n",
              "      <td>NaN</td>\n",
              "      <td>Not Verified</td>\n",
              "      <td>n</td>\n",
              "      <td>1</td>\n",
              "      <td>other</td>\n",
              "      <td>buying a car</td>\n",
              "      <td>10</td>\n",
              "      <td>NY</td>\n",
              "      <td>4.0</td>\n",
              "      <td>-1.0</td>\n",
              "      <td>-1.0</td>\n",
              "      <td>-1.0</td>\n",
              "      <td>-1.0</td>\n",
              "      <td>0.0</td>\n",
              "      <td>-1.0</td>\n",
              "      <td>-1.0</td>\n",
              "      <td>f</td>\n",
              "      <td>873.83</td>\n",
              "      <td>0.0</td>\n",
              "      <td>0.0</td>\n",
              "      <td>0.0</td>\n",
              "      <td>-1.0</td>\n",
              "      <td>INDIVIDUAL</td>\n",
              "      <td>157th week</td>\n",
              "      <td>-1.0</td>\n",
              "      <td>-1.0</td>\n",
              "      <td>-1.0</td>\n",
              "      <td>-1.0</td>\n",
              "    </tr>\n",
              "    <tr>\n",
              "      <th>198875</th>\n",
              "      <td>3450.0</td>\n",
              "      <td>36 months</td>\n",
              "      <td>BAT4347689</td>\n",
              "      <td>7.75</td>\n",
              "      <td>A</td>\n",
              "      <td>A3</td>\n",
              "      <td>not applicable</td>\n",
              "      <td>&lt; 1 year</td>\n",
              "      <td>NONE</td>\n",
              "      <td>NaN</td>\n",
              "      <td>Not Verified</td>\n",
              "      <td>n</td>\n",
              "      <td>1</td>\n",
              "      <td>other</td>\n",
              "      <td>education</td>\n",
              "      <td>10</td>\n",
              "      <td>NY</td>\n",
              "      <td>1.0</td>\n",
              "      <td>-1.0</td>\n",
              "      <td>-1.0</td>\n",
              "      <td>-1.0</td>\n",
              "      <td>-1.0</td>\n",
              "      <td>0.0</td>\n",
              "      <td>-1.0</td>\n",
              "      <td>-1.0</td>\n",
              "      <td>f</td>\n",
              "      <td>867.53</td>\n",
              "      <td>0.0</td>\n",
              "      <td>0.0</td>\n",
              "      <td>0.0</td>\n",
              "      <td>-1.0</td>\n",
              "      <td>INDIVIDUAL</td>\n",
              "      <td>157th week</td>\n",
              "      <td>-1.0</td>\n",
              "      <td>-1.0</td>\n",
              "      <td>-1.0</td>\n",
              "      <td>-1.0</td>\n",
              "    </tr>\n",
              "    <tr>\n",
              "      <th>402854</th>\n",
              "      <td>6700.0</td>\n",
              "      <td>36 months</td>\n",
              "      <td>not applicable</td>\n",
              "      <td>7.75</td>\n",
              "      <td>A</td>\n",
              "      <td>A3</td>\n",
              "      <td>not applicable</td>\n",
              "      <td>&lt; 1 year</td>\n",
              "      <td>NONE</td>\n",
              "      <td>NaN</td>\n",
              "      <td>Not Verified</td>\n",
              "      <td>n</td>\n",
              "      <td>1</td>\n",
              "      <td>other</td>\n",
              "      <td>moving expenses and security deposit</td>\n",
              "      <td>10</td>\n",
              "      <td>NY</td>\n",
              "      <td>1.0</td>\n",
              "      <td>-1.0</td>\n",
              "      <td>-1.0</td>\n",
              "      <td>-1.0</td>\n",
              "      <td>-1.0</td>\n",
              "      <td>0.0</td>\n",
              "      <td>-1.0</td>\n",
              "      <td>-1.0</td>\n",
              "      <td>f</td>\n",
              "      <td>830.42</td>\n",
              "      <td>0.0</td>\n",
              "      <td>0.0</td>\n",
              "      <td>0.0</td>\n",
              "      <td>-1.0</td>\n",
              "      <td>INDIVIDUAL</td>\n",
              "      <td>157th week</td>\n",
              "      <td>-1.0</td>\n",
              "      <td>-1.0</td>\n",
              "      <td>-1.0</td>\n",
              "      <td>-1.0</td>\n",
              "    </tr>\n",
              "  </tbody>\n",
              "</table>\n",
              "</div>"
            ],
            "text/plain": [
              "        funded_amnt_inv       term  ... tot_cur_bal  total_rev_hi_lim\n",
              "170053              0.0  36 months  ...        -1.0              -1.0\n",
              "198875           3450.0  36 months  ...        -1.0              -1.0\n",
              "402854           6700.0  36 months  ...        -1.0              -1.0\n",
              "\n",
              "[3 rows x 37 columns]"
            ]
          },
          "metadata": {},
          "execution_count": 22
        }
      ]
    },
    {
      "cell_type": "markdown",
      "metadata": {
        "id": "jiBMG5UwaFEB"
      },
      "source": [
        "Inference:\n",
        "1. There are total of three rows where annual income is NaN.\n",
        "2. Annual Income is an important field in this problem.\n",
        "3. Funded amount lies between 6500 and 7000 for these NaN values.\n",
        "4. Fill the missing values with the average income of people who were funded between 6500 and 7000"
      ]
    },
    {
      "cell_type": "code",
      "metadata": {
        "id": "mjAtmU1laxQ0"
      },
      "source": [
        "#Fill the missing values with the average income of people who were funded between 6500 and 7000\n",
        "mean_ann_inc = (df[(df['funded_amnt_inv'] >= 6500) & (df['funded_amnt_inv'] <= 7000)]['annual_inc']).mean()\n",
        "\n",
        "df['annual_inc'] = df['annual_inc'].fillna(mean_ann_inc)"
      ],
      "execution_count": 23,
      "outputs": []
    },
    {
      "cell_type": "code",
      "metadata": {
        "colab": {
          "base_uri": "https://localhost:8080/",
          "height": 346
        },
        "id": "D9YdqyWMdOcj",
        "outputId": "72a139a0-3b10-4ca2-c930-463599078e5b"
      },
      "source": [
        "# analyzing tot_coll_amt, tot_cur_bal, total_rev_hi_lim columns\n",
        "# tot_coll_amt = total collection amount ever owed\n",
        "# tot_cur_bal = total current balance of all accounts\n",
        "# total_rev_hi_lim = total revolving credit limit\n",
        "# The count of NaN values for these columns is same.\n",
        "\n",
        "df[(df['tot_coll_amt'].isna())].head(5)"
      ],
      "execution_count": 113,
      "outputs": [
        {
          "output_type": "execute_result",
          "data": {
            "text/html": [
              "<div>\n",
              "<style scoped>\n",
              "    .dataframe tbody tr th:only-of-type {\n",
              "        vertical-align: middle;\n",
              "    }\n",
              "\n",
              "    .dataframe tbody tr th {\n",
              "        vertical-align: top;\n",
              "    }\n",
              "\n",
              "    .dataframe thead th {\n",
              "        text-align: right;\n",
              "    }\n",
              "</style>\n",
              "<table border=\"1\" class=\"dataframe\">\n",
              "  <thead>\n",
              "    <tr style=\"text-align: right;\">\n",
              "      <th></th>\n",
              "      <th>loan_amnt</th>\n",
              "      <th>funded_amnt</th>\n",
              "      <th>funded_amnt_inv</th>\n",
              "      <th>term</th>\n",
              "      <th>batch_enrolled</th>\n",
              "      <th>int_rate</th>\n",
              "      <th>grade</th>\n",
              "      <th>sub_grade</th>\n",
              "      <th>emp_title</th>\n",
              "      <th>emp_length</th>\n",
              "      <th>home_ownership</th>\n",
              "      <th>annual_inc</th>\n",
              "      <th>verification_status</th>\n",
              "      <th>pymnt_plan</th>\n",
              "      <th>purpose</th>\n",
              "      <th>title</th>\n",
              "      <th>zip_code</th>\n",
              "      <th>addr_state</th>\n",
              "      <th>dti</th>\n",
              "      <th>delinq_2yrs</th>\n",
              "      <th>inq_last_6mths</th>\n",
              "      <th>mths_since_last_delinq</th>\n",
              "      <th>mths_since_last_record</th>\n",
              "      <th>open_acc</th>\n",
              "      <th>pub_rec</th>\n",
              "      <th>revol_bal</th>\n",
              "      <th>revol_util</th>\n",
              "      <th>total_acc</th>\n",
              "      <th>initial_list_status</th>\n",
              "      <th>total_rec_int</th>\n",
              "      <th>total_rec_late_fee</th>\n",
              "      <th>recoveries</th>\n",
              "      <th>collection_recovery_fee</th>\n",
              "      <th>collections_12_mths_ex_med</th>\n",
              "      <th>mths_since_last_major_derog</th>\n",
              "      <th>application_type</th>\n",
              "      <th>verification_status_joint</th>\n",
              "      <th>last_week_pay</th>\n",
              "      <th>acc_now_delinq</th>\n",
              "      <th>tot_coll_amt</th>\n",
              "      <th>tot_cur_bal</th>\n",
              "      <th>total_rev_hi_lim</th>\n",
              "      <th>descr</th>\n",
              "    </tr>\n",
              "  </thead>\n",
              "  <tbody>\n",
              "    <tr>\n",
              "      <th>21</th>\n",
              "      <td>12400</td>\n",
              "      <td>12400</td>\n",
              "      <td>12400.0</td>\n",
              "      <td>36 months</td>\n",
              "      <td>BAT1135695</td>\n",
              "      <td>6.62</td>\n",
              "      <td>A</td>\n",
              "      <td>A2</td>\n",
              "      <td>expeditors</td>\n",
              "      <td>2 years</td>\n",
              "      <td>OWN</td>\n",
              "      <td>40000.0</td>\n",
              "      <td>Not Verified</td>\n",
              "      <td>n</td>\n",
              "      <td>debt_consolidation</td>\n",
              "      <td>debt consolidation</td>\n",
              "      <td>11</td>\n",
              "      <td>NY</td>\n",
              "      <td>20.31</td>\n",
              "      <td>0.0</td>\n",
              "      <td>2.0</td>\n",
              "      <td>28.0</td>\n",
              "      <td>NaN</td>\n",
              "      <td>6.0</td>\n",
              "      <td>0.0</td>\n",
              "      <td>1804.0</td>\n",
              "      <td>12.2</td>\n",
              "      <td>9.0</td>\n",
              "      <td>f</td>\n",
              "      <td>0.00</td>\n",
              "      <td>0.00</td>\n",
              "      <td>712.76</td>\n",
              "      <td>7.0300</td>\n",
              "      <td>0.0</td>\n",
              "      <td>NaN</td>\n",
              "      <td>INDIVIDUAL</td>\n",
              "      <td>not applicable</td>\n",
              "      <td>0</td>\n",
              "      <td>0.0</td>\n",
              "      <td>NaN</td>\n",
              "      <td>NaN</td>\n",
              "      <td>NaN</td>\n",
              "      <td>1</td>\n",
              "    </tr>\n",
              "    <tr>\n",
              "      <th>47</th>\n",
              "      <td>20000</td>\n",
              "      <td>20000</td>\n",
              "      <td>19725.0</td>\n",
              "      <td>36 months</td>\n",
              "      <td></td>\n",
              "      <td>13.67</td>\n",
              "      <td>B</td>\n",
              "      <td>B5</td>\n",
              "      <td>credit suisse</td>\n",
              "      <td>4 years</td>\n",
              "      <td>RENT</td>\n",
              "      <td>168000.0</td>\n",
              "      <td>Verified</td>\n",
              "      <td>n</td>\n",
              "      <td>debt_consolidation</td>\n",
              "      <td>grateful getting out of debt for good</td>\n",
              "      <td>10</td>\n",
              "      <td>NY</td>\n",
              "      <td>22.32</td>\n",
              "      <td>0.0</td>\n",
              "      <td>0.0</td>\n",
              "      <td>41.0</td>\n",
              "      <td>NaN</td>\n",
              "      <td>5.0</td>\n",
              "      <td>0.0</td>\n",
              "      <td>24080.0</td>\n",
              "      <td>80.0</td>\n",
              "      <td>19.0</td>\n",
              "      <td>f</td>\n",
              "      <td>4255.21</td>\n",
              "      <td>68.04</td>\n",
              "      <td>750.11</td>\n",
              "      <td>134.7958</td>\n",
              "      <td>0.0</td>\n",
              "      <td>NaN</td>\n",
              "      <td>INDIVIDUAL</td>\n",
              "      <td>not applicable</td>\n",
              "      <td>135</td>\n",
              "      <td>0.0</td>\n",
              "      <td>NaN</td>\n",
              "      <td>NaN</td>\n",
              "      <td>NaN</td>\n",
              "      <td>1</td>\n",
              "    </tr>\n",
              "    <tr>\n",
              "      <th>66</th>\n",
              "      <td>16000</td>\n",
              "      <td>16000</td>\n",
              "      <td>15975.0</td>\n",
              "      <td>36 months</td>\n",
              "      <td>not applicable</td>\n",
              "      <td>6.03</td>\n",
              "      <td>A</td>\n",
              "      <td>A1</td>\n",
              "      <td>merrill lynch</td>\n",
              "      <td>4 years</td>\n",
              "      <td>MORTGAGE</td>\n",
              "      <td>75000.0</td>\n",
              "      <td>Verified</td>\n",
              "      <td>n</td>\n",
              "      <td>small_business</td>\n",
              "      <td>business funding</td>\n",
              "      <td>77</td>\n",
              "      <td>TX</td>\n",
              "      <td>4.83</td>\n",
              "      <td>0.0</td>\n",
              "      <td>0.0</td>\n",
              "      <td>NaN</td>\n",
              "      <td>NaN</td>\n",
              "      <td>6.0</td>\n",
              "      <td>0.0</td>\n",
              "      <td>1079.0</td>\n",
              "      <td>2.9</td>\n",
              "      <td>8.0</td>\n",
              "      <td>f</td>\n",
              "      <td>1438.43</td>\n",
              "      <td>0.00</td>\n",
              "      <td>0.00</td>\n",
              "      <td>0.0000</td>\n",
              "      <td>0.0</td>\n",
              "      <td>NaN</td>\n",
              "      <td>INDIVIDUAL</td>\n",
              "      <td>not applicable</td>\n",
              "      <td>117</td>\n",
              "      <td>0.0</td>\n",
              "      <td>NaN</td>\n",
              "      <td>NaN</td>\n",
              "      <td>NaN</td>\n",
              "      <td>1</td>\n",
              "    </tr>\n",
              "    <tr>\n",
              "      <th>67</th>\n",
              "      <td>35000</td>\n",
              "      <td>35000</td>\n",
              "      <td>34975.0</td>\n",
              "      <td>36 months</td>\n",
              "      <td>BAT3943761</td>\n",
              "      <td>19.72</td>\n",
              "      <td>D</td>\n",
              "      <td>D5</td>\n",
              "      <td>not applicable</td>\n",
              "      <td>10+ years</td>\n",
              "      <td>MORTGAGE</td>\n",
              "      <td>140000.0</td>\n",
              "      <td>Verified</td>\n",
              "      <td>n</td>\n",
              "      <td>small_business</td>\n",
              "      <td>business</td>\n",
              "      <td>19</td>\n",
              "      <td>PA</td>\n",
              "      <td>30.35</td>\n",
              "      <td>0.0</td>\n",
              "      <td>1.0</td>\n",
              "      <td>36.0</td>\n",
              "      <td>NaN</td>\n",
              "      <td>16.0</td>\n",
              "      <td>0.0</td>\n",
              "      <td>88474.0</td>\n",
              "      <td>80.1</td>\n",
              "      <td>47.0</td>\n",
              "      <td>f</td>\n",
              "      <td>11640.25</td>\n",
              "      <td>0.00</td>\n",
              "      <td>0.00</td>\n",
              "      <td>0.0000</td>\n",
              "      <td>0.0</td>\n",
              "      <td>NaN</td>\n",
              "      <td>INDIVIDUAL</td>\n",
              "      <td>not applicable</td>\n",
              "      <td>156</td>\n",
              "      <td>0.0</td>\n",
              "      <td>NaN</td>\n",
              "      <td>NaN</td>\n",
              "      <td>NaN</td>\n",
              "      <td>1</td>\n",
              "    </tr>\n",
              "    <tr>\n",
              "      <th>74</th>\n",
              "      <td>1000</td>\n",
              "      <td>1000</td>\n",
              "      <td>1000.0</td>\n",
              "      <td>36 months</td>\n",
              "      <td>BAT3943761</td>\n",
              "      <td>12.12</td>\n",
              "      <td>B</td>\n",
              "      <td>B3</td>\n",
              "      <td>nfi industries</td>\n",
              "      <td>8 years</td>\n",
              "      <td>RENT</td>\n",
              "      <td>40000.0</td>\n",
              "      <td>Verified</td>\n",
              "      <td>n</td>\n",
              "      <td>vacation</td>\n",
              "      <td>vacation</td>\n",
              "      <td>43</td>\n",
              "      <td>OH</td>\n",
              "      <td>31.77</td>\n",
              "      <td>0.0</td>\n",
              "      <td>0.0</td>\n",
              "      <td>NaN</td>\n",
              "      <td>NaN</td>\n",
              "      <td>12.0</td>\n",
              "      <td>0.0</td>\n",
              "      <td>15686.0</td>\n",
              "      <td>93.4</td>\n",
              "      <td>21.0</td>\n",
              "      <td>f</td>\n",
              "      <td>197.41</td>\n",
              "      <td>0.00</td>\n",
              "      <td>0.00</td>\n",
              "      <td>0.0000</td>\n",
              "      <td>0.0</td>\n",
              "      <td>NaN</td>\n",
              "      <td>INDIVIDUAL</td>\n",
              "      <td>not applicable</td>\n",
              "      <td>156</td>\n",
              "      <td>0.0</td>\n",
              "      <td>NaN</td>\n",
              "      <td>NaN</td>\n",
              "      <td>NaN</td>\n",
              "      <td>1</td>\n",
              "    </tr>\n",
              "  </tbody>\n",
              "</table>\n",
              "</div>"
            ],
            "text/plain": [
              "    loan_amnt  funded_amnt  ...  total_rev_hi_lim descr\n",
              "21      12400        12400  ...               NaN     1\n",
              "47      20000        20000  ...               NaN     1\n",
              "66      16000        16000  ...               NaN     1\n",
              "67      35000        35000  ...               NaN     1\n",
              "74       1000         1000  ...               NaN     1\n",
              "\n",
              "[5 rows x 43 columns]"
            ]
          },
          "metadata": {},
          "execution_count": 113
        }
      ]
    },
    {
      "cell_type": "code",
      "metadata": {
        "colab": {
          "base_uri": "https://localhost:8080/"
        },
        "id": "ymoGnTM4gBgD",
        "outputId": "cfa19b0b-b26c-4cb2-f40a-03816ba40226"
      },
      "source": [
        "#total count where tot_coll_amt = 0\n",
        "df[df['tot_coll_amt']==0].shape"
      ],
      "execution_count": 114,
      "outputs": [
        {
          "output_type": "execute_result",
          "data": {
            "text/plain": [
              "(420903, 43)"
            ]
          },
          "metadata": {},
          "execution_count": 114
        }
      ]
    },
    {
      "cell_type": "code",
      "metadata": {
        "id": "IHpck3Fxg4O6"
      },
      "source": [
        "# large section of values for this column is 0, so we can fill the missing value in this column with this value.\n",
        "df['tot_coll_amt'] = df['tot_coll_amt'].fillna(0)"
      ],
      "execution_count": 115,
      "outputs": []
    },
    {
      "cell_type": "code",
      "metadata": {
        "id": "FBiDkUo-5apN"
      },
      "source": [
        "df['tot_coll_amt'] = df['tot_coll_amt'].fillna(0)\n",
        "df['tot_cur_bal'] = df['tot_cur_bal'].fillna(tot_cur_bal_median)\n"
      ],
      "execution_count": null,
      "outputs": []
    },
    {
      "cell_type": "code",
      "metadata": {
        "colab": {
          "base_uri": "https://localhost:8080/"
        },
        "id": "FJnxrarkhNzU",
        "outputId": "3c63aa66-8f5f-41ba-89ca-f0840421353b"
      },
      "source": [
        "#total count where tot_cur_bal = 0\n",
        "df[df['tot_cur_bal']==0].shape[0]"
      ],
      "execution_count": 116,
      "outputs": [
        {
          "output_type": "execute_result",
          "data": {
            "text/plain": [
              "78"
            ]
          },
          "metadata": {},
          "execution_count": 116
        }
      ]
    },
    {
      "cell_type": "code",
      "metadata": {
        "colab": {
          "base_uri": "https://localhost:8080/"
        },
        "id": "eoo3nRThhaqj",
        "outputId": "e144aef2-cc64-4aeb-a095-0318b12572c5"
      },
      "source": [
        "#print mean, max, and min for tot_cur_bal\n",
        "print(\"Mean\")\n",
        "print(df['tot_cur_bal'].mean())\n",
        "print(\"\\nMax\")\n",
        "print(df['tot_cur_bal'].max())\n",
        "print(\"\\nMin\")\n",
        "print(df['tot_cur_bal'].min())\n",
        "print(\"\\nMedian\")\n",
        "print(df['tot_cur_bal'].median())"
      ],
      "execution_count": 117,
      "outputs": [
        {
          "output_type": "stream",
          "name": "stdout",
          "text": [
            "Mean\n",
            "139554.1107918862\n",
            "\n",
            "Max\n",
            "8000078.0\n",
            "\n",
            "Min\n",
            "0.0\n",
            "\n",
            "Median\n",
            "80669.5\n"
          ]
        }
      ]
    },
    {
      "cell_type": "code",
      "metadata": {
        "id": "DFpl9hh0hNwL"
      },
      "source": [
        "# fill the missing values tot_cur_bal_median with the median\n",
        "tot_cur_bal_median = df['tot_cur_bal'].median()\n",
        "df['tot_cur_bal'] = df['tot_cur_bal'].fillna(tot_cur_bal_median)\n",
        "df['total_rev_hi_lim'] = df['total_rev_hi_lim'].fillna(total_rev_hi_lim_median)"
      ],
      "execution_count": 118,
      "outputs": []
    },
    {
      "cell_type": "code",
      "metadata": {
        "colab": {
          "base_uri": "https://localhost:8080/"
        },
        "id": "YEukoF9YhNtC",
        "outputId": "3d9393e5-11d1-4f51-bfc8-5d848baf91de"
      },
      "source": [
        "#print mean, max, and min for total_rev_hi_lim\n",
        "print(\"Mean\")\n",
        "print(df['total_rev_hi_lim'].mean())\n",
        "print(\"\\nMax\")\n",
        "print(df['total_rev_hi_lim'].max())\n",
        "print(\"\\nMin\")\n",
        "print(df['total_rev_hi_lim'].min())\n",
        "print(\"\\nMedian\")\n",
        "print(df['total_rev_hi_lim'].median())"
      ],
      "execution_count": 119,
      "outputs": [
        {
          "output_type": "stream",
          "name": "stdout",
          "text": [
            "Mean\n",
            "32080.572918535796\n",
            "\n",
            "Max\n",
            "9999999.0\n",
            "\n",
            "Min\n",
            "0.0\n",
            "\n",
            "Median\n",
            "23700.0\n"
          ]
        }
      ]
    },
    {
      "cell_type": "code",
      "metadata": {
        "id": "y6iUqFyjod2X"
      },
      "source": [
        "# fill the missing values of total_rev_hi_lim with the median\n",
        "total_rev_hi_lim_median = df['total_rev_hi_lim'].median()\n",
        "df['total_rev_hi_lim'] = df['total_rev_hi_lim'].fillna(total_rev_hi_lim_median)"
      ],
      "execution_count": 120,
      "outputs": []
    },
    {
      "cell_type": "code",
      "metadata": {
        "colab": {
          "base_uri": "https://localhost:8080/"
        },
        "id": "kHLJ09oGpqE3",
        "outputId": "76a7ccc1-80ce-489f-f379-df50f79011f3"
      },
      "source": [
        "#mths_since_last_delinq, mths_since_last_record, and  mths_since_last_major_derog columns have large NULL values.\n",
        "print(df['mths_since_last_delinq'].min())\n",
        "print(df['mths_since_last_record'].min())\n",
        "print(df['mths_since_last_major_derog'].min())"
      ],
      "execution_count": 121,
      "outputs": [
        {
          "output_type": "stream",
          "name": "stdout",
          "text": [
            "0.0\n",
            "0.0\n",
            "0.0\n"
          ]
        }
      ]
    },
    {
      "cell_type": "code",
      "metadata": {
        "id": "1a2ZWGyChNm9"
      },
      "source": [
        "# Replacing their NaN values with min value (which is 0)\n",
        "\n",
        "df['mths_since_last_delinq'] = df['mths_since_last_delinq'].fillna(0)\n",
        "\n",
        "df['mths_since_last_record'] = df['mths_since_last_record'].fillna(0)\n",
        "\n",
        "df['mths_since_last_major_derog'] = df['mths_since_last_major_derog'].fillna(0)"
      ],
      "execution_count": 122,
      "outputs": []
    },
    {
      "cell_type": "code",
      "metadata": {
        "id": "OXZ2ifaShNei"
      },
      "source": [
        "#Replacing the NaN values of the remaining columns with their meadian value.\n",
        "\n",
        "median = df['delinq_2yrs'].median()\n",
        "df['delinq_2yrs'] = df['delinq_2yrs'].fillna(median)\n",
        "\n",
        "median = df['inq_last_6mths'].median()\n",
        "df['inq_last_6mths'] = df['inq_last_6mths'].fillna(median)\n",
        "\n",
        "median = df['open_acc'].median()\n",
        "df['open_acc'] = df['open_acc'].fillna(median)\n",
        "\n",
        "median = df['pub_rec'].median()\n",
        "df['pub_rec'] = df['pub_rec'].fillna(median)\n",
        "\n",
        "median = df['revol_util'].median()\n",
        "df['revol_util'] = df['revol_util'].fillna(median)\n",
        "\n",
        "median = df['total_acc'].median()\n",
        "df['total_acc'] = df['total_acc'].fillna(median)\n",
        "\n",
        "median = df['collections_12_mths_ex_med'].median()\n",
        "df['collections_12_mths_ex_med'] = df['collections_12_mths_ex_med'].fillna(median)\n",
        "\n",
        "median = df['acc_now_delinq'].median()\n",
        "df['acc_now_delinq'] = df['acc_now_delinq'].fillna(median)"
      ],
      "execution_count": 123,
      "outputs": []
    },
    {
      "cell_type": "code",
      "metadata": {
        "id": "LLaI_anTH0YO"
      },
      "source": [
        "#perform the train test split.\n",
        "X_train, X_test,Y_train, Y_test = train_test_split(df, Y, stratify = Y, train_size = 0.9)\n",
        "X_train, X_cv, Y_train, Y_cv = train_test_split(X_train, Y_train, stratify = Y_train, train_size = 0.7)"
      ],
      "execution_count": 25,
      "outputs": []
    },
    {
      "cell_type": "code",
      "metadata": {
        "id": "5Lr1PhxGQAbm"
      },
      "source": [
        "#Featurize the title and emp_title features.\n",
        "from sklearn.feature_extraction.text import CountVectorizer\n",
        "\n",
        "vectorizer_title = CountVectorizer(max_features = 10)\n",
        "X_train_title = vectorizer_title.fit_transform(X_train['title'])\n",
        "X_cv_title = vectorizer_title.transform(X_cv['title'])\n",
        "X_test_title = vectorizer_title.transform(X_test['title'])\n",
        "\n",
        "\n",
        "vectorizer_emp_title = CountVectorizer(max_features = 20)\n",
        "X_train_emp_title = vectorizer_emp_title.fit_transform(X_train['emp_title'])\n",
        "X_cv_emp_title = vectorizer_emp_title.transform(X_cv['emp_title'])\n",
        "X_test_emp_title = vectorizer_emp_title.transform(X_test['emp_title'])\n"
      ],
      "execution_count": 26,
      "outputs": []
    },
    {
      "cell_type": "code",
      "metadata": {
        "id": "zW2SxxzbTdIY"
      },
      "source": [
        "term = np.array(X_train['term']).reshape((len(X_train['term']),1))\n",
        "batch_enrolled = np.array(X_train['batch_enrolled']).reshape((len(X_train['batch_enrolled']),1))\n",
        "grade = np.array(X_train['grade']).reshape((len(X_train['grade']),1))\n",
        "sub_grade = np.array(X_train['sub_grade']).reshape((len(X_train['sub_grade']),1))\n",
        "emp_length = np.array(X_train['emp_length']).reshape((len(X_train['emp_length']),1))\n",
        "home_ownership = np.array(X_train['home_ownership']).reshape((len(X_train['home_ownership']),1))\n",
        "verification_status = np.array(X_train['verification_status']).reshape((len(X_train['verification_status']),1))\n",
        "pymnt_plan = np.array(X_train['pymnt_plan']).reshape((len(X_train['pymnt_plan']),1))\n",
        "purpose = np.array(X_train['purpose']).reshape((len(X_train['purpose']),1))\n",
        "zip_code = np.array(X_train['zip_code']).reshape((len(X_train['zip_code']),1))\n",
        "addr_state = np.array(X_train['addr_state']).reshape((len(X_train['addr_state']),1))\n",
        "application_type = np.array(X_train['application_type']).reshape((len(X_train['application_type']),1))\n",
        "#verification_status_joint = np.array(X_train['verification_status_joint']).reshape((len(X_train['verification_status_joint']),1))\n",
        "initial_list_status = np.array(X_train['initial_list_status']).reshape((len(X_train['initial_list_status']),1))\n",
        "descr = np.array(X_train['desc']).reshape((len(X_train['desc']),1))\n",
        "\n",
        "term_cv = np.array(X_cv['term']).reshape((len(X_cv['term']),1))\n",
        "batch_enrolled_cv = np.array(X_cv['batch_enrolled']).reshape((len(X_cv['batch_enrolled']),1))\n",
        "grade_cv = np.array(X_cv['grade']).reshape((len(X_cv['grade']),1))\n",
        "sub_grade_cv = np.array(X_cv['sub_grade']).reshape((len(X_cv['sub_grade']),1))\n",
        "emp_length_cv = np.array(X_cv['emp_length']).reshape((len(X_cv['emp_length']),1))\n",
        "home_ownership_cv = np.array(X_cv['home_ownership']).reshape((len(X_cv['home_ownership']),1))\n",
        "verification_status_cv = np.array(X_cv['verification_status']).reshape((len(X_cv['verification_status']),1))\n",
        "pymnt_plan_cv = np.array(X_cv['pymnt_plan']).reshape((len(X_cv['pymnt_plan']),1))\n",
        "purpose_cv = np.array(X_cv['purpose']).reshape((len(X_cv['purpose']),1))\n",
        "zip_code_cv = np.array(X_cv['zip_code']).reshape((len(X_cv['zip_code']),1))\n",
        "addr_state_cv = np.array(X_cv['addr_state']).reshape((len(X_cv['addr_state']),1))\n",
        "application_type_cv = np.array(X_cv['application_type']).reshape((len(X_cv['application_type']),1))\n",
        "#verification_status_joint_cv = np.array(X_cv['verification_status_joint']).reshape((len(X_cv['verification_status_joint']),1))\n",
        "initial_list_status_cv = np.array(X_cv['initial_list_status']).reshape((len(X_cv['initial_list_status']),1))\n",
        "descr_cv = np.array(X_cv['desc']).reshape((len(X_cv['desc']),1))\n",
        "\n",
        "\n",
        "term_test = np.array(X_test['term']).reshape((len(X_test['term']),1))\n",
        "batch_enrolled_test = np.array(X_test['batch_enrolled']).reshape((len(X_test['batch_enrolled']),1))\n",
        "grade_test = np.array(X_test['grade']).reshape((len(X_test['grade']),1))\n",
        "sub_grade_test = np.array(X_test['sub_grade']).reshape((len(X_test['sub_grade']),1))\n",
        "emp_length_test = np.array(X_test['emp_length']).reshape((len(X_test['emp_length']),1))\n",
        "home_ownership_test = np.array(X_test['home_ownership']).reshape((len(X_test['home_ownership']),1))\n",
        "verification_status_test = np.array(X_test['verification_status']).reshape((len(X_test['verification_status']),1))\n",
        "pymnt_plan_test = np.array(X_test['pymnt_plan']).reshape((len(X_test['pymnt_plan']),1))\n",
        "purpose_test = np.array(X_test['purpose']).reshape((len(X_test['purpose']),1))\n",
        "zip_code_test = np.array(X_test['zip_code']).reshape((len(X_test['zip_code']),1))\n",
        "addr_state_test = np.array(X_test['addr_state']).reshape((len(X_test['addr_state']),1))\n",
        "application_type_test = np.array(X_test['application_type']).reshape((len(X_test['application_type']),1))\n",
        "#verification_status_joint_test = np.array(X_test['verification_status_joint']).reshape((len(X_test['verification_status_joint']),1))\n",
        "initial_list_status_test = np.array(X_test['initial_list_status']).reshape((len(X_test['initial_list_status']),1))\n",
        "descr_test = np.array(X_test['desc']).reshape((len(X_test['desc']),1))\n"
      ],
      "execution_count": 27,
      "outputs": []
    },
    {
      "cell_type": "code",
      "metadata": {
        "id": "l-G0mK5PYCTn"
      },
      "source": [
        "ohe_term = OneHotEncoder(sparse=False)\n",
        "term = ohe_term.fit_transform(term)\n",
        "term_cv = ohe_term.transform(term_cv)\n",
        "term_test = ohe_term.transform(term_test)\n",
        "\n",
        "ohe_batch_enrolled = OneHotEncoder(sparse=False)\n",
        "batch_enrolled = ohe_batch_enrolled.fit_transform(batch_enrolled)\n",
        "batch_enrolled_cv = ohe_batch_enrolled.transform(batch_enrolled_cv)\n",
        "batch_enrolled_test = ohe_batch_enrolled.transform(batch_enrolled_test)\n",
        "\n",
        "ohe_grade = OneHotEncoder(sparse=False)\n",
        "grade = ohe_grade.fit_transform(grade)\n",
        "grade_cv = ohe_grade.transform(grade_cv)\n",
        "grade_test = ohe_grade.transform(grade_test)\n",
        "\n",
        "ohe_sub_grade = OneHotEncoder(sparse=False)\n",
        "sub_grade = ohe_sub_grade.fit_transform(sub_grade)\n",
        "sub_grade_cv = ohe_sub_grade.transform(sub_grade_cv)\n",
        "sub_grade_test = ohe_sub_grade.transform(sub_grade_test)\n",
        "\n",
        "ohe_emp_length = OneHotEncoder(sparse=False)\n",
        "emp_length = ohe_emp_length.fit_transform(emp_length)\n",
        "emp_length_cv = ohe_emp_length.transform(emp_length_cv)\n",
        "emp_length_test = ohe_emp_length.transform(emp_length_test)\n",
        "\n",
        "ohe_home_ownership = OneHotEncoder(sparse=False)\n",
        "home_ownership = ohe_home_ownership.fit_transform(home_ownership)\n",
        "home_ownership_cv = ohe_home_ownership.transform(home_ownership_cv)\n",
        "home_ownership_test = ohe_home_ownership.transform(home_ownership_test)\n",
        "\n",
        "ohe_verification_status = OneHotEncoder(sparse=False)\n",
        "verification_status = ohe_verification_status.fit_transform(verification_status)\n",
        "verification_status_cv = ohe_verification_status.transform(verification_status_cv)\n",
        "verification_status_test = ohe_verification_status.transform(verification_status_test)\n",
        "\n",
        "ohe_pymnt_plan = OneHotEncoder(sparse=False)\n",
        "pymnt_plan = ohe_pymnt_plan.fit_transform(pymnt_plan)\n",
        "pymnt_plan_cv = ohe_pymnt_plan.transform(pymnt_plan_cv)\n",
        "pymnt_plan_test = ohe_pymnt_plan.transform(pymnt_plan_test)\n",
        "\n",
        "ohe_purpose = OneHotEncoder(sparse=False)\n",
        "purpose = ohe_purpose.fit_transform(purpose)\n",
        "purpose_cv = ohe_purpose.transform(purpose_cv)\n",
        "purpose_test = ohe_purpose.transform(purpose_test)\n",
        "\n",
        "ohe_zip_code = OneHotEncoder(sparse=False)\n",
        "zip_code = ohe_zip_code.fit_transform(zip_code)\n",
        "zip_code_cv = ohe_zip_code.transform(zip_code_cv)\n",
        "zip_code_test = ohe_zip_code.transform(zip_code_test)\n",
        "\n",
        "ohe_addr_state = OneHotEncoder(sparse=False)\n",
        "addr_state = ohe_addr_state.fit_transform(addr_state)\n",
        "addr_state_cv = ohe_addr_state.transform(addr_state_cv)\n",
        "addr_state_test = ohe_addr_state.transform(addr_state_test)\n",
        "\n",
        "ohe_application_type = OneHotEncoder(sparse=False)\n",
        "application_type = ohe_application_type.fit_transform(application_type)\n",
        "application_type_cv = ohe_application_type.transform(application_type_cv)\n",
        "application_type_test = ohe_application_type.transform(application_type_test)\n",
        "\n",
        "\n",
        "ohe_initial_list_status = OneHotEncoder(sparse=False)\n",
        "initial_list_status = ohe_initial_list_status.fit_transform(initial_list_status)\n",
        "initial_list_status_cv = ohe_initial_list_status.transform(initial_list_status_cv)\n",
        "initial_list_status_test = ohe_initial_list_status.transform(initial_list_status_test)\n",
        "\n",
        "ohe_descr = OneHotEncoder(sparse=False)\n",
        "descr = ohe_descr.fit_transform(descr)\n",
        "descr_cv = ohe_descr.transform(descr_cv)\n",
        "descr_test = ohe_descr.transform(descr_test)"
      ],
      "execution_count": 28,
      "outputs": []
    },
    {
      "cell_type": "code",
      "metadata": {
        "id": "5JMd2svcFwQN"
      },
      "source": [
        "label = np.array(Y_train).reshape((len(Y_train),1))\n",
        "label_cv = np.array(Y_cv).reshape((len(Y_cv),1))\n",
        "label_test = np.array(Y_test).reshape((len(Y_test),1))\n"
      ],
      "execution_count": 29,
      "outputs": []
    },
    {
      "cell_type": "code",
      "metadata": {
        "id": "XVxdg65cFQtM"
      },
      "source": [
        "ohe_label = OneHotEncoder(sparse=False)\n",
        "\n",
        "label = ohe_label.fit_transform(label)\n",
        "label_cv = ohe_label.transform(label_cv)\n",
        "label_test = ohe_label.transform(label_test)"
      ],
      "execution_count": 30,
      "outputs": []
    },
    {
      "cell_type": "code",
      "metadata": {
        "id": "fkretb1wACZp"
      },
      "source": [
        "X_train_title = X_train_title.toarray()\n",
        "X_train_emp_title = X_train_emp_title.toarray()"
      ],
      "execution_count": 31,
      "outputs": []
    },
    {
      "cell_type": "code",
      "metadata": {
        "id": "ipJaXaYJBaVc"
      },
      "source": [
        "\n",
        "cat = np.concatenate((term,batch_enrolled,grade,sub_grade,emp_length,home_ownership, verification_status, pymnt_plan, purpose, zip_code, addr_state, application_type, initial_list_status,descr ), axis=1)\n",
        "cat_cv = np.concatenate((term_cv,batch_enrolled_cv,grade_cv,sub_grade_cv,emp_length_cv,home_ownership_cv,verification_status_cv, pymnt_plan_cv, purpose_cv, zip_code_cv, addr_state_cv, application_type_cv, initial_list_status_cv,descr_cv ), axis=1)\n",
        "cat_test = np.concatenate((term_test,batch_enrolled_test,grade_test,sub_grade_test,emp_length_test,home_ownership_test, verification_status_test, pymnt_plan_test, purpose_test, zip_code_test, addr_state_test, application_type_test, initial_list_status_test,descr_test ), axis=1)"
      ],
      "execution_count": 32,
      "outputs": []
    },
    {
      "cell_type": "code",
      "metadata": {
        "id": "JJ6o-oRJ0q2F"
      },
      "source": [
        "train = X_train[['funded_amnt_inv',\n",
        "       'int_rate',\n",
        "        'annual_inc', \n",
        "       'dti',\n",
        "       'delinq_2yrs', 'inq_last_6mths', 'open_acc', 'pub_rec', 'revol_bal',\n",
        "       'revol_util', 'total_acc',  'total_rec_int',\n",
        "       'total_rec_late_fee', 'recoveries', 'collection_recovery_fee',\n",
        "       'collections_12_mths_ex_med', \n",
        "        \n",
        "       'acc_now_delinq', 'tot_coll_amt', 'tot_cur_bal', 'total_rev_hi_lim',\n",
        "       ]]\n",
        "\n",
        "cv = X_cv[['funded_amnt_inv',\n",
        "       'int_rate',\n",
        "        'annual_inc', \n",
        "       'dti',\n",
        "       'delinq_2yrs', 'inq_last_6mths', 'open_acc', 'pub_rec', 'revol_bal',\n",
        "       'revol_util', 'total_acc',  'total_rec_int',\n",
        "       'total_rec_late_fee', 'recoveries', 'collection_recovery_fee',\n",
        "       'collections_12_mths_ex_med', \n",
        "       \n",
        "       'acc_now_delinq', 'tot_coll_amt', 'tot_cur_bal', 'total_rev_hi_lim',\n",
        "       ]]\n",
        "\n",
        "test = X_test[['funded_amnt_inv',\n",
        "       'int_rate',\n",
        "        'annual_inc', \n",
        "       'dti',\n",
        "       'delinq_2yrs', 'inq_last_6mths', 'open_acc', 'pub_rec', 'revol_bal',\n",
        "       'revol_util', 'total_acc',  'total_rec_int',\n",
        "       'total_rec_late_fee', 'recoveries', 'collection_recovery_fee',\n",
        "       'collections_12_mths_ex_med', \n",
        "        \n",
        "       'acc_now_delinq', 'tot_coll_amt', 'tot_cur_bal', 'total_rev_hi_lim',\n",
        "       ]]"
      ],
      "execution_count": 33,
      "outputs": []
    },
    {
      "cell_type": "code",
      "metadata": {
        "id": "w8Tu04zzFOw0"
      },
      "source": [
        "tr = np.concatenate((train,cat), axis =1)\n",
        "cv = np.concatenate((cv,cat_cv), axis =1)\n",
        "ts = np.concatenate((test,cat_test), axis =1)"
      ],
      "execution_count": 34,
      "outputs": []
    },
    {
      "cell_type": "code",
      "metadata": {
        "id": "yqA6Qm8EKhXf"
      },
      "source": [
        "label = to_categorical(Y_train)\n",
        "label_cv = to_categorical(Y_cv)\n",
        "label_test = to_categorical(Y_test)"
      ],
      "execution_count": 35,
      "outputs": []
    },
    {
      "cell_type": "code",
      "metadata": {
        "id": "zMydFK1nBd2N"
      },
      "source": [
        "\"\"\"\n",
        "label = (Y_train)\n",
        "label_cv = (Y_cv)\n",
        "label_test = (Y_test)\n",
        "\"\"\""
      ],
      "execution_count": 39,
      "outputs": []
    },
    {
      "cell_type": "code",
      "metadata": {
        "colab": {
          "base_uri": "https://localhost:8080/"
        },
        "id": "IiXJJ-is7pU7",
        "outputId": "75a184a1-2311-4a1c-9785-c9945044c01b"
      },
      "source": [
        "#Model\n",
        "\n",
        "n_hidden1 = 64\n",
        "n_hidden2 = 48\n",
        "epochs = 20\n",
        "n_classes = 2\n",
        "batch_size = 32\n",
        "# Initiliazing the sequential model\n",
        "model = keras.Sequential()\n",
        "\n",
        "# Configuring the parameters\n",
        "model.add(layers.Dense(n_hidden2, activation='relu', input_shape=(tr.shape[1],), kernel_initializer='glorot_normal'))\n",
        "\n",
        "# Configuring the parameters\n",
        "model.add(layers.Dense(n_hidden2, activation='relu', kernel_initializer='glorot_normal'))\n",
        "\n",
        "# Adding a dropout layer\n",
        "model.add(layers.Dropout(0.3))\n",
        "\n",
        "\n",
        "# Adding a dense output layer with relu activation\n",
        "model.add(layers.Dense(n_hidden1, activation='relu', kernel_initializer='he_normal'))\n",
        "\n",
        "# Adding a dropout layer\n",
        "model.add(layers.Dropout(0.3))\n",
        "\n",
        "# Adding a dense output layer with softmax activation\n",
        "model.add(layers.Dense(2, activation='softmax'))\n",
        "\n",
        "print (model.summary())\n",
        "\n",
        "auc = tf.keras.metrics.AUC()\n",
        "\n",
        "# Compiling the model\n",
        "model.compile(loss= 'binary_crossentropy',\n",
        "              optimizer='adam',\n",
        "              metrics=[tf.keras.metrics.AUC(100)])\n",
        "\n",
        "# Training the model\n",
        "model.fit(tr,\n",
        "          label,\n",
        "          batch_size=batch_size,\n",
        "          validation_data=(cv, label_cv),\n",
        "          epochs=5)"
      ],
      "execution_count": 37,
      "outputs": [
        {
          "output_type": "stream",
          "name": "stdout",
          "text": [
            "Model: \"sequential_1\"\n",
            "_________________________________________________________________\n",
            "Layer (type)                 Output Shape              Param #   \n",
            "=================================================================\n",
            "dense_4 (Dense)              (None, 48)                17472     \n",
            "_________________________________________________________________\n",
            "dense_5 (Dense)              (None, 48)                2352      \n",
            "_________________________________________________________________\n",
            "dropout_2 (Dropout)          (None, 48)                0         \n",
            "_________________________________________________________________\n",
            "dense_6 (Dense)              (None, 64)                3136      \n",
            "_________________________________________________________________\n",
            "dropout_3 (Dropout)          (None, 64)                0         \n",
            "_________________________________________________________________\n",
            "dense_7 (Dense)              (None, 2)                 130       \n",
            "=================================================================\n",
            "Total params: 23,090\n",
            "Trainable params: 23,090\n",
            "Non-trainable params: 0\n",
            "_________________________________________________________________\n",
            "None\n",
            "Epoch 1/5\n",
            "10483/10483 [==============================] - 37s 3ms/step - loss: 10.4026 - auc_3: 0.7607 - val_loss: 0.5471 - val_auc_3: 0.7637\n",
            "Epoch 2/5\n",
            "10483/10483 [==============================] - 34s 3ms/step - loss: 0.5483 - auc_3: 0.7635 - val_loss: 0.5468 - val_auc_3: 0.7637\n",
            "Epoch 3/5\n",
            "10483/10483 [==============================] - 34s 3ms/step - loss: 0.5509 - auc_3: 0.7641 - val_loss: 0.5468 - val_auc_3: 0.7637\n",
            "Epoch 4/5\n",
            "10483/10483 [==============================] - 34s 3ms/step - loss: 0.5469 - auc_3: 0.7636 - val_loss: 0.5468 - val_auc_3: 0.7637\n",
            "Epoch 5/5\n",
            "10483/10483 [==============================] - 34s 3ms/step - loss: 0.5469 - auc_3: 0.7634 - val_loss: 0.5468 - val_auc_3: 0.7637\n"
          ]
        },
        {
          "output_type": "execute_result",
          "data": {
            "text/plain": [
              "<keras.callbacks.History at 0x7f6a9c50b690>"
            ]
          },
          "metadata": {},
          "execution_count": 37
        }
      ]
    },
    {
      "cell_type": "markdown",
      "metadata": {
        "id": "jy06j4fU9l6Z"
      },
      "source": [
        "## Deep Learning Model 2"
      ]
    },
    {
      "cell_type": "code",
      "metadata": {
        "id": "7r9JGI5O9jyk"
      },
      "source": [
        "dataframe  = pd.read_csv(\"train_indessa.csv\")"
      ],
      "execution_count": 142,
      "outputs": []
    },
    {
      "cell_type": "code",
      "metadata": {
        "colab": {
          "base_uri": "https://localhost:8080/"
        },
        "id": "IDZsEaZJ-WTj",
        "outputId": "6e668d62-d0dc-45d0-8116-0c898d14b688"
      },
      "source": [
        "dataframe['desc'].isna().sum()"
      ],
      "execution_count": 157,
      "outputs": [
        {
          "output_type": "execute_result",
          "data": {
            "text/plain": [
              "0"
            ]
          },
          "metadata": {},
          "execution_count": 157
        }
      ]
    },
    {
      "cell_type": "code",
      "metadata": {
        "id": "avUwJhjNABdi"
      },
      "source": [
        "dataframe['desc'] = dataframe['desc'].fillna(\"not mentioned\")"
      ],
      "execution_count": 156,
      "outputs": []
    },
    {
      "cell_type": "code",
      "metadata": {
        "id": "-sAyCLpRArp5"
      },
      "source": [
        "# In the original dataset \"4\" indicates the pet was not adopted.\n",
        "dataframe['descr'] = np.where(dataframe['desc'] == \"not mentioned\", 0, 1)"
      ],
      "execution_count": 162,
      "outputs": []
    },
    {
      "cell_type": "code",
      "metadata": {
        "id": "DV55zCMR-F8f"
      },
      "source": [
        "# Drop un-used columns.\n",
        "dataframe = dataframe.drop(columns=['desc', 'member_id'])"
      ],
      "execution_count": 164,
      "outputs": []
    },
    {
      "cell_type": "code",
      "metadata": {
        "id": "pIC_AHRXCiBb"
      },
      "source": [
        "# large section of values for this column is 0, so we can fill the missing value in this column with this value.\n",
        "dataframe['tot_coll_amt'] = dataframe['tot_coll_amt'].fillna(0)\n",
        "\n",
        "# fill the missing values of total_rev_hi_lim with the median\n",
        "total_rev_hi_lim_median = dataframe['total_rev_hi_lim'].median()\n",
        "dataframe['total_rev_hi_lim'] = dataframe['total_rev_hi_lim'].fillna(total_rev_hi_lim_median)\n",
        "\n",
        "# Replacing their NaN values with min value (which is 0)\n",
        "\n",
        "dataframe['mths_since_last_delinq'] = dataframe['mths_since_last_delinq'].fillna(0)\n",
        "\n",
        "dataframe['mths_since_last_record'] = dataframe['mths_since_last_record'].fillna(0)\n",
        "\n",
        "dataframe['mths_since_last_major_derog'] = dataframe['mths_since_last_major_derog'].fillna(0)\n",
        "\n",
        "#Replacing the NaN values of the remaining columns with their meadian value.\n",
        "\n",
        "median = dataframe['delinq_2yrs'].median()\n",
        "dataframe['delinq_2yrs'] = dataframe['delinq_2yrs'].fillna(median)\n",
        "\n",
        "median = dataframe['inq_last_6mths'].median()\n",
        "dataframe['inq_last_6mths'] = dataframe['inq_last_6mths'].fillna(median)\n",
        "\n",
        "median = dataframe['open_acc'].median()\n",
        "dataframe['open_acc'] = dataframe['open_acc'].fillna(median)\n",
        "\n",
        "median = dataframe['pub_rec'].median()\n",
        "dataframe['pub_rec'] = dataframe['pub_rec'].fillna(median)\n",
        "\n",
        "median = dataframe['revol_util'].median()\n",
        "dataframe['revol_util'] = dataframe['revol_util'].fillna(median)\n",
        "\n",
        "median = dataframe['total_acc'].median()\n",
        "dataframe['total_acc'] = dataframe['total_acc'].fillna(median)\n",
        "\n",
        "median = dataframe['collections_12_mths_ex_med'].median()\n",
        "dataframe['collections_12_mths_ex_med'] = dataframe['collections_12_mths_ex_med'].fillna(median)\n",
        "\n",
        "median = dataframe['acc_now_delinq'].median()\n",
        "dataframe['acc_now_delinq'] = dataframe['acc_now_delinq'].fillna(median)"
      ],
      "execution_count": 179,
      "outputs": []
    },
    {
      "cell_type": "code",
      "metadata": {
        "id": "mUiA8-h2HpJx"
      },
      "source": [
        "median = dataframe['tot_cur_bal'].median()\n",
        "dataframe['tot_cur_bal'] = dataframe['tot_cur_bal'].fillna(median)"
      ],
      "execution_count": 183,
      "outputs": []
    },
    {
      "cell_type": "code",
      "metadata": {
        "id": "ejvpdl9xDBWe"
      },
      "source": [
        "# 1. Filling the missing values in categorical column\n",
        "\n",
        "dataframe['emp_length'] = dataframe['emp_length'].fillna(\"not applicable\")\n",
        "dataframe['batch_enrolled'] = dataframe['batch_enrolled'].fillna(\"not applicable\")\n",
        "dataframe['verification_status_joint'] = dataframe['verification_status_joint'].fillna(\"not applicable\")"
      ],
      "execution_count": 180,
      "outputs": []
    },
    {
      "cell_type": "code",
      "metadata": {
        "id": "k1jjuIdrDGME"
      },
      "source": [
        "#Convert the Last week pay to integer\n",
        "\n",
        "dataframe['last_week_pay'] = dataframe['last_week_pay'].fillna(0)\n",
        "\n",
        "new_set = [x.replace('th week', '') for x in dataframe['last_week_pay'].to_list()]\n",
        "\n",
        "new_set_ = []\n",
        "for ele in new_set:\n",
        "  if ele == 0:    \n",
        "    new_set_.append(0)\n",
        "  elif ele =='NA':\n",
        "    new_set_.append(0)\n",
        "  else:    \n",
        "    new_set_.append(int(ele))\n",
        "\n",
        "dataframe['last_week_pay'] = new_set_"
      ],
      "execution_count": null,
      "outputs": []
    },
    {
      "cell_type": "code",
      "metadata": {
        "id": "H6Tk_qDSH-YI"
      },
      "source": [
        "dataframe_ = dataframe"
      ],
      "execution_count": 185,
      "outputs": []
    },
    {
      "cell_type": "code",
      "metadata": {
        "id": "cxi8NUo9IEKj"
      },
      "source": [
        "# Drop un-used columns.\n",
        "dataframe = dataframe.drop(columns=['title', 'emp_title'])"
      ],
      "execution_count": 186,
      "outputs": []
    },
    {
      "cell_type": "code",
      "metadata": {
        "id": "YPM1KtpAIOHL"
      },
      "source": [
        "#perform the train test split.\n",
        "X_train, X_test = train_test_split(dataframe, stratify = dataframe['loan_status'], train_size = 0.8)\n",
        "X_train, X_cv = train_test_split(X_train, stratify = X_train['loan_status'], train_size = 0.8)"
      ],
      "execution_count": 196,
      "outputs": []
    },
    {
      "cell_type": "code",
      "metadata": {
        "id": "CLopxbl6WKXm"
      },
      "source": [
        "# A utility method to create a tf.data dataset from a Pandas Dataframe\n",
        "def df_to_dataset(dataframe, shuffle=True, batch_size=32):\n",
        "  dataframe = dataframe.copy()\n",
        "  labels = dataframe.pop('loan_status')\n",
        "  ds = tf.data.Dataset.from_tensor_slices((dict(dataframe), labels))\n",
        "  if shuffle:\n",
        "    ds = ds.shuffle(buffer_size=len(dataframe))\n",
        "  ds = ds.batch(batch_size)\n",
        "  ds = ds.prefetch(batch_size)\n",
        "  return ds"
      ],
      "execution_count": 205,
      "outputs": []
    },
    {
      "cell_type": "code",
      "metadata": {
        "id": "6YeMTaQJWO4i"
      },
      "source": [
        "def get_normalization_layer(name, dataset):\n",
        "  # Create a Normalization layer for our feature.\n",
        "  normalizer = preprocessing.Normalization(axis=None)\n",
        "\n",
        "  # Prepare a Dataset that only yields our feature.\n",
        "  feature_ds = dataset.map(lambda x, y: x[name])\n",
        "\n",
        "  # Learn the statistics of the data.\n",
        "  normalizer.adapt(feature_ds)\n",
        "\n",
        "  return normalizer"
      ],
      "execution_count": 198,
      "outputs": []
    },
    {
      "cell_type": "code",
      "metadata": {
        "id": "EDqEBtVEWzXF"
      },
      "source": [
        "def get_category_encoding_layer(name, dataset, dtype, max_tokens=None):\n",
        "  # Create a StringLookup layer which will turn strings into integer indices\n",
        "  if dtype == 'string':\n",
        "    index = preprocessing.StringLookup(max_tokens=max_tokens)\n",
        "  else:\n",
        "    index = preprocessing.IntegerLookup(max_tokens=max_tokens)\n",
        "\n",
        "  # Prepare a Dataset that only yields our feature\n",
        "  feature_ds = dataset.map(lambda x, y: x[name])\n",
        "\n",
        "  # Learn the set of possible values and assign them a fixed integer index.\n",
        "  index.adapt(feature_ds)\n",
        "\n",
        "  # Create a Discretization for our integer indices.\n",
        "  encoder = preprocessing.CategoryEncoding(num_tokens=index.vocabulary_size())\n",
        "\n",
        "  # Apply one-hot encoding to our indices. The lambda function captures the\n",
        "  # layer so we can use them, or include them in the functional model later.\n",
        "  return lambda feature: encoder(index(feature))"
      ],
      "execution_count": 199,
      "outputs": []
    },
    {
      "cell_type": "code",
      "metadata": {
        "id": "NiFrI8thW6O4"
      },
      "source": [
        "batch_size = 256\n",
        "train_ds = df_to_dataset(X_train, batch_size=batch_size)\n",
        "val_ds = df_to_dataset(X_cv, shuffle=False, batch_size=batch_size)\n",
        "test_ds = df_to_dataset(X_test, shuffle=False, batch_size=batch_size)"
      ],
      "execution_count": 206,
      "outputs": []
    },
    {
      "cell_type": "code",
      "metadata": {
        "id": "QSfUQj0chBUw"
      },
      "source": [
        "string_cols = []\n",
        "num_cols = []\n",
        "for i in dataframe.dtypes:\n",
        "  if i == 'object':\n",
        "    string_cols.append(i)\n",
        "  else:\n",
        "    num_cols.append(i)"
      ],
      "execution_count": 213,
      "outputs": []
    },
    {
      "cell_type": "code",
      "metadata": {
        "id": "nugMzvsdd8RV"
      },
      "source": [
        "all_inputs = []\n",
        "encoded_features = []\n",
        "\n",
        "from tensorflow.keras.layers.experimental import preprocessing\n",
        "\n",
        "# Numeric features.\n",
        "for header in ['loan_amnt', 'funded_amnt', 'funded_amnt_inv', 'int_rate','annual_inc','dti','delinq_2yrs','inq_last_6mths','mths_since_last_delinq','mths_since_last_record','open_acc','pub_rec','revol_bal','revol_util', 'total_acc', 'total_rec_int','total_rec_late_fee', 'recoveries', 'collection_recovery_fee', 'collections_12_mths_ex_med', 'mths_since_last_major_derog', 'last_week_pay', 'acc_now_delinq' ,'tot_coll_amt' ,'tot_cur_bal', 'total_rev_hi_lim' ]:\n",
        "  numeric_col = tf.keras.Input(shape=(1,), name=header)\n",
        "  normalization_layer = get_normalization_layer(header, train_ds)\n",
        "  encoded_numeric_col = normalization_layer(numeric_col)\n",
        "  all_inputs.append(numeric_col)\n",
        "  encoded_features.append(encoded_numeric_col)"
      ],
      "execution_count": 219,
      "outputs": []
    },
    {
      "cell_type": "code",
      "metadata": {
        "id": "JLhPlNL5kAU6"
      },
      "source": [
        "# Categorical features encoded as integers.\n",
        "descr = tf.keras.Input(shape=(1,), name='descr', dtype='int64')\n",
        "encoding_layer = get_category_encoding_layer('descr', train_ds, dtype='int64',\n",
        "                                             max_tokens=2)\n"
      ],
      "execution_count": 220,
      "outputs": []
    },
    {
      "cell_type": "code",
      "metadata": {
        "id": "ZGkczkHOlPgI"
      },
      "source": [
        "encoded_descr = encoding_layer(descr)\n",
        "all_inputs.append(descr)\n",
        "encoded_features.append(encoded_descr)"
      ],
      "execution_count": 221,
      "outputs": []
    },
    {
      "cell_type": "code",
      "metadata": {
        "id": "8izjDKdxlkVs"
      },
      "source": [
        "# Categorical features encoded as string.\n",
        "\n",
        "\n",
        "categorical_cols = ['term', 'batch_enrolled', 'grade', 'sub_grade', 'emp_length',\n",
        "                    'home_ownership', 'verification_status', 'pymnt_plan', 'purpose', 'zip_code', 'addr_state', 'initial_list_status', 'application_type', 'verification_status_joint']\n",
        "for header in categorical_cols:\n",
        "  categorical_col = tf.keras.Input(shape=(1,), name=header, dtype='string')\n",
        "  encoding_layer = get_category_encoding_layer(header, train_ds, dtype='string',\n",
        "                                               max_tokens=5)\n",
        "  encoded_categorical_col = encoding_layer(categorical_col)\n",
        "  all_inputs.append(categorical_col)\n",
        "  encoded_features.append(encoded_categorical_col)"
      ],
      "execution_count": 225,
      "outputs": []
    },
    {
      "cell_type": "code",
      "metadata": {
        "id": "rIeAkDsglTYq"
      },
      "source": [
        "all_features = tf.keras.layers.concatenate(encoded_features)\n",
        "x = tf.keras.layers.Dense(32, activation=\"relu\")(all_features)\n",
        "x = tf.keras.layers.Dropout(0.2)(x)\n",
        "\n",
        "x = tf.keras.layers.BatchNormalization()(x)\n",
        "\n",
        "x = tf.keras.layers.Dense(64, activation=\"relu\")(x)\n",
        "x = tf.keras.layers.Dropout(0.3)(x)\n",
        "output = tf.keras.layers.Dense(1, activation=\"sigmoid\")(x)\n",
        "model = tf.keras.Model(all_inputs, output)\n",
        "model.compile(optimizer='adam',\n",
        "              loss=tf.keras.losses.CategoricalCrossentropy(from_logits=True),\n",
        "              metrics=[\"accuracy\"])"
      ],
      "execution_count": 238,
      "outputs": []
    },
    {
      "cell_type": "code",
      "metadata": {
        "id": "J7V4zqFRhaPB"
      },
      "source": [
        "# rankdir='LR' is used to make the graph horizontal.#\n",
        "#tf.keras.utils.plot_model(model, show_shapes=True, rankdir=\"LR\")"
      ],
      "execution_count": 240,
      "outputs": []
    },
    {
      "cell_type": "code",
      "metadata": {
        "colab": {
          "base_uri": "https://localhost:8080/"
        },
        "id": "XAIZOk7ZoF9g",
        "outputId": "79114387-710f-4bff-d1de-bafe5e3051c5"
      },
      "source": [
        "model.fit(train_ds, epochs=5, validation_data=val_ds)"
      ],
      "execution_count": 241,
      "outputs": [
        {
          "output_type": "stream",
          "name": "stdout",
          "text": [
            "Epoch 1/5\n"
          ]
        },
        {
          "output_type": "stream",
          "name": "stderr",
          "text": [
            "/usr/local/lib/python3.7/dist-packages/keras/backend.py:4847: UserWarning: \"`categorical_crossentropy` received `from_logits=True`, but the `output` argument was produced by a sigmoid or softmax activation and thus does not represent logits. Was this intended?\"\n",
            "  '\"`categorical_crossentropy` received `from_logits=True`, but '\n"
          ]
        },
        {
          "output_type": "stream",
          "name": "stdout",
          "text": [
            "1332/1332 [==============================] - 31s 19ms/step - loss: nan - accuracy: 0.7637 - val_loss: nan - val_accuracy: 0.7637\n",
            "Epoch 2/5\n",
            "1332/1332 [==============================] - 28s 18ms/step - loss: nan - accuracy: 0.7637 - val_loss: nan - val_accuracy: 0.7637\n",
            "Epoch 3/5\n",
            "1332/1332 [==============================] - 28s 18ms/step - loss: nan - accuracy: 0.7637 - val_loss: nan - val_accuracy: 0.7637\n",
            "Epoch 4/5\n",
            "1332/1332 [==============================] - 28s 18ms/step - loss: nan - accuracy: 0.7637 - val_loss: nan - val_accuracy: 0.7637\n",
            "Epoch 5/5\n",
            "1332/1332 [==============================] - 28s 18ms/step - loss: nan - accuracy: 0.7637 - val_loss: nan - val_accuracy: 0.7637\n"
          ]
        },
        {
          "output_type": "execute_result",
          "data": {
            "text/plain": [
              "<keras.callbacks.History at 0x7efed9ddf090>"
            ]
          },
          "metadata": {},
          "execution_count": 241
        }
      ]
    },
    {
      "cell_type": "markdown",
      "metadata": {
        "id": "KkcOAcuYhmaJ"
      },
      "source": [
        "## Deep Learning Model 3 with cleaned data"
      ]
    },
    {
      "cell_type": "code",
      "metadata": {
        "colab": {
          "base_uri": "https://localhost:8080/"
        },
        "id": "594R_aCXawjG",
        "outputId": "0e00ee5c-6880-4433-83a9-d74c6207dfb8"
      },
      "source": [
        "from google.colab import drive\n",
        "drive.mount('/content/drive', force_remount=True)"
      ],
      "execution_count": null,
      "outputs": [
        {
          "output_type": "stream",
          "name": "stdout",
          "text": [
            "Mounted at /content/drive\n"
          ]
        }
      ]
    },
    {
      "cell_type": "code",
      "metadata": {
        "colab": {
          "base_uri": "https://localhost:8080/"
        },
        "id": "Dwa6jWRfbjb0",
        "outputId": "66380559-fe0a-4198-b5a2-6637ffe68ef1"
      },
      "source": [
        "cd drive/MyDrive/ML_Artivatic_dataset/ML_Artivatic_dataset"
      ],
      "execution_count": null,
      "outputs": [
        {
          "output_type": "stream",
          "name": "stdout",
          "text": [
            "/content/drive/MyDrive/ML_Artivatic_dataset/ML_Artivatic_dataset\n"
          ]
        }
      ]
    },
    {
      "cell_type": "code",
      "metadata": {
        "colab": {
          "base_uri": "https://localhost:8080/"
        },
        "id": "qWvP7_PybnP9",
        "outputId": "a486ea80-e938-444f-b44b-44dc5fb9cdb4"
      },
      "source": [
        "#Loading the required libraries\n",
        "import numpy as np\n",
        "import pandas as pd\n",
        "import seaborn as sns\n",
        "\n",
        "# TensorFlow and tf.keras\n",
        "import tensorflow as tf\n",
        "from tensorflow import keras\n",
        "from tensorflow.keras import layers\n",
        "\n",
        "# Helper libraries\n",
        "import numpy as np\n",
        "import matplotlib.pyplot as plt\n",
        "\n",
        "from sklearn.model_selection import train_test_split\n",
        "\n",
        "print(tf.__version__)\n",
        "\n",
        "from tensorflow.keras.preprocessing.text import Tokenizer\n",
        "from tensorflow.keras.preprocessing.sequence import pad_sequences\n",
        "\n",
        "import os\n",
        "import datetime\n",
        "\n",
        "from tensorflow.keras.utils import to_categorical"
      ],
      "execution_count": null,
      "outputs": [
        {
          "output_type": "stream",
          "name": "stdout",
          "text": [
            "2.6.0\n"
          ]
        }
      ]
    },
    {
      "cell_type": "code",
      "metadata": {
        "id": "H5ev5Sp-bqAB"
      },
      "source": [
        "df = pd.read_csv(\"pre_train_indessa.csv\", encoding=\"utf-16\")"
      ],
      "execution_count": null,
      "outputs": []
    },
    {
      "cell_type": "code",
      "metadata": {
        "id": "BOW6EgcjP0TT"
      },
      "source": [
        "#dropping the columns which have good chunk of null values.\n",
        "\n",
        "df = df.drop(columns=['mths_since_last_delinq', 'desc', 'mths_since_last_record', ' mths_since_last_major_derog', 'verification_status_joint', 'mths_since_last_delinq' ])"
      ],
      "execution_count": null,
      "outputs": []
    },
    {
      "cell_type": "code",
      "metadata": {
        "id": "Z9bN8GeUexGv"
      },
      "source": [
        "df['emp_length'] = df['emp_length'].fillna(\"na\")"
      ],
      "execution_count": null,
      "outputs": []
    },
    {
      "cell_type": "code",
      "metadata": {
        "id": "CDRz5sZDe6d2"
      },
      "source": [
        "df = df.drop(columns=['mths_since_last_delinq'])"
      ],
      "execution_count": null,
      "outputs": []
    },
    {
      "cell_type": "code",
      "metadata": {
        "colab": {
          "base_uri": "https://localhost:8080/",
          "height": 116
        },
        "id": "4k2tAsaLgP_t",
        "outputId": "16feb898-e904-4847-835a-89e2f7e6662d"
      },
      "source": [
        "df[df['emp_title'].isna()]"
      ],
      "execution_count": null,
      "outputs": [
        {
          "output_type": "execute_result",
          "data": {
            "text/html": [
              "<div>\n",
              "<style scoped>\n",
              "    .dataframe tbody tr th:only-of-type {\n",
              "        vertical-align: middle;\n",
              "    }\n",
              "\n",
              "    .dataframe tbody tr th {\n",
              "        vertical-align: top;\n",
              "    }\n",
              "\n",
              "    .dataframe thead th {\n",
              "        text-align: right;\n",
              "    }\n",
              "</style>\n",
              "<table border=\"1\" class=\"dataframe\">\n",
              "  <thead>\n",
              "    <tr style=\"text-align: right;\">\n",
              "      <th></th>\n",
              "      <th>member_id</th>\n",
              "      <th>loan_amnt</th>\n",
              "      <th>funded_amnt</th>\n",
              "      <th>funded_amnt_inv</th>\n",
              "      <th>term</th>\n",
              "      <th>batch_enrolled</th>\n",
              "      <th>int_rate</th>\n",
              "      <th>grade</th>\n",
              "      <th>sub_grade</th>\n",
              "      <th>emp_title</th>\n",
              "      <th>emp_length</th>\n",
              "      <th>home_ownership</th>\n",
              "      <th>annual_inc</th>\n",
              "      <th>verification_status</th>\n",
              "      <th>pymnt_plan</th>\n",
              "      <th>purpose</th>\n",
              "      <th>title</th>\n",
              "      <th>zip_code</th>\n",
              "      <th>addr_state</th>\n",
              "      <th>dti</th>\n",
              "      <th>delinq_2yrs</th>\n",
              "      <th>inq_last_6mths</th>\n",
              "      <th>open_acc</th>\n",
              "      <th>pub_rec</th>\n",
              "      <th>revol_bal</th>\n",
              "      <th>revol_util</th>\n",
              "      <th>total_acc</th>\n",
              "      <th>initial_list_status</th>\n",
              "      <th>total_rec_int</th>\n",
              "      <th>total_rec_late_fee</th>\n",
              "      <th>recoveries</th>\n",
              "      <th>collection_recovery_fee</th>\n",
              "      <th>collections_12_mths_ex_med</th>\n",
              "      <th>application_type</th>\n",
              "      <th>last_week_pay</th>\n",
              "      <th>acc_now_delinq</th>\n",
              "      <th>tot_coll_amt</th>\n",
              "      <th>tot_cur_bal</th>\n",
              "      <th>total_rev_hi_lim</th>\n",
              "      <th>loan_status</th>\n",
              "    </tr>\n",
              "  </thead>\n",
              "  <tbody>\n",
              "    <tr>\n",
              "      <th>295294</th>\n",
              "      <td>11050045</td>\n",
              "      <td>16000</td>\n",
              "      <td>16000</td>\n",
              "      <td>16000</td>\n",
              "      <td>36 months</td>\n",
              "      <td>BAT5629144</td>\n",
              "      <td>7.62</td>\n",
              "      <td>A</td>\n",
              "      <td>A3</td>\n",
              "      <td>NaN</td>\n",
              "      <td>5 years</td>\n",
              "      <td>MORTGAGE</td>\n",
              "      <td>115000.0</td>\n",
              "      <td>Verified</td>\n",
              "      <td>n</td>\n",
              "      <td>debt_consolidation</td>\n",
              "      <td>easyinvestloan</td>\n",
              "      <td>170xx</td>\n",
              "      <td>PA</td>\n",
              "      <td>16.06</td>\n",
              "      <td>0</td>\n",
              "      <td>2</td>\n",
              "      <td>11</td>\n",
              "      <td>0</td>\n",
              "      <td>34450</td>\n",
              "      <td>45.8</td>\n",
              "      <td>43</td>\n",
              "      <td>f</td>\n",
              "      <td>1516.41</td>\n",
              "      <td>0.0</td>\n",
              "      <td>0.0</td>\n",
              "      <td>0.0</td>\n",
              "      <td>0</td>\n",
              "      <td>INDIVIDUAL</td>\n",
              "      <td>109th week</td>\n",
              "      <td>0</td>\n",
              "      <td>0</td>\n",
              "      <td>492563</td>\n",
              "      <td>75300</td>\n",
              "      <td>0</td>\n",
              "    </tr>\n",
              "  </tbody>\n",
              "</table>\n",
              "</div>"
            ],
            "text/plain": [
              "        member_id  loan_amnt  ...  total_rev_hi_lim  loan_status\n",
              "295294   11050045      16000  ...             75300            0\n",
              "\n",
              "[1 rows x 40 columns]"
            ]
          },
          "metadata": {},
          "execution_count": 9
        }
      ]
    },
    {
      "cell_type": "code",
      "metadata": {
        "id": "ZdeM_j2ugj9z"
      },
      "source": [
        "df = df.drop(295294)"
      ],
      "execution_count": null,
      "outputs": []
    },
    {
      "cell_type": "code",
      "metadata": {
        "id": "drHtGWxWQ6C5"
      },
      "source": [
        "# using dropna() function  we drop the rows with atleast one null value in the row\n",
        "df = df.dropna()"
      ],
      "execution_count": null,
      "outputs": []
    },
    {
      "cell_type": "code",
      "metadata": {
        "colab": {
          "base_uri": "https://localhost:8080/"
        },
        "id": "64xWNVCKcNSg",
        "outputId": "9195f440-dd1f-4984-ef29-f38db6c62132"
      },
      "source": [
        "df.isna().sum()"
      ],
      "execution_count": null,
      "outputs": [
        {
          "output_type": "execute_result",
          "data": {
            "text/plain": [
              "member_id                     0\n",
              "loan_amnt                     0\n",
              "funded_amnt                   0\n",
              "funded_amnt_inv               0\n",
              "term                          0\n",
              "batch_enrolled                0\n",
              "int_rate                      0\n",
              "grade                         0\n",
              "sub_grade                     0\n",
              "emp_title                     0\n",
              "emp_length                    0\n",
              "home_ownership                0\n",
              "annual_inc                    0\n",
              "verification_status           0\n",
              "pymnt_plan                    0\n",
              "purpose                       0\n",
              "title                         0\n",
              "zip_code                      0\n",
              "addr_state                    0\n",
              "dti                           0\n",
              "delinq_2yrs                   0\n",
              "inq_last_6mths                0\n",
              "open_acc                      0\n",
              "pub_rec                       0\n",
              "revol_bal                     0\n",
              "revol_util                    0\n",
              "total_acc                     0\n",
              "initial_list_status           0\n",
              "total_rec_int                 0\n",
              "total_rec_late_fee            0\n",
              "recoveries                    0\n",
              "collection_recovery_fee       0\n",
              "collections_12_mths_ex_med    0\n",
              "application_type              0\n",
              "last_week_pay                 0\n",
              "acc_now_delinq                0\n",
              "tot_coll_amt                  0\n",
              "tot_cur_bal                   0\n",
              "total_rev_hi_lim              0\n",
              "loan_status                   0\n",
              "dtype: int64"
            ]
          },
          "metadata": {},
          "execution_count": 12
        }
      ]
    },
    {
      "cell_type": "code",
      "metadata": {
        "id": "sjac5iPspbGt"
      },
      "source": [
        "df = df.drop(columns=['member_id'])"
      ],
      "execution_count": null,
      "outputs": []
    },
    {
      "cell_type": "code",
      "metadata": {
        "id": "O91xU8bJpjBD"
      },
      "source": [
        "df = df.drop(columns=['loan_amnt','funded_amnt'])"
      ],
      "execution_count": null,
      "outputs": []
    },
    {
      "cell_type": "code",
      "metadata": {
        "id": "kCoYejiIewEh"
      },
      "source": [
        "zip = []\n",
        "for i in df['zip_code']:\n",
        "  temp = i[0:2]\n",
        "  zip.append(temp)\n",
        "\n",
        "df['zip_code'] = zip"
      ],
      "execution_count": null,
      "outputs": []
    },
    {
      "cell_type": "code",
      "metadata": {
        "id": "XZp9VscCpVIC"
      },
      "source": [
        "#fill the null values in title and emp_title with 'not applicable'\n",
        "import re\n",
        "\n",
        "\n",
        "title = []\n",
        "emp_title = []\n",
        "\n",
        "\n",
        "#preprcess the values in title and emp_title\n",
        "for text in df['title']:\n",
        "  \n",
        "  if text is not None:\n",
        "    text = re.sub('[^A-Za-z]+', ' ', str(text))\n",
        "    text = ' '.join(e.lower() for e in text.split())\n",
        "  title.append(text)\n",
        "\n",
        "for text in df['emp_title']:\n",
        "  \n",
        "  if text is not None:\n",
        "    text = re.sub('[^A-Za-z]+', ' ', str(text))\n",
        "    text = ' '.join(e.lower() for e in text.split())\n",
        "  emp_title.append(text)\n",
        "\n",
        "  "
      ],
      "execution_count": null,
      "outputs": []
    },
    {
      "cell_type": "code",
      "metadata": {
        "id": "1WtCfw0Vqjbi"
      },
      "source": [
        "df['title'] = title\n",
        "df['emp_title'] = emp_title"
      ],
      "execution_count": null,
      "outputs": []
    },
    {
      "cell_type": "code",
      "metadata": {
        "colab": {
          "base_uri": "https://localhost:8080/",
          "height": 352
        },
        "id": "ifa79Pdrra-1",
        "outputId": "2ead2cd5-562f-4fb0-b327-13971cb10a14"
      },
      "source": [
        "#Count for each labels\n",
        "plt.title('No of Datapoints per Loan_Status', fontsize=15)\n",
        "sns.countplot(df.loan_status)\n",
        "plt.xticks()\n",
        "plt.show()"
      ],
      "execution_count": null,
      "outputs": [
        {
          "output_type": "stream",
          "name": "stderr",
          "text": [
            "/usr/local/lib/python3.7/dist-packages/seaborn/_decorators.py:43: FutureWarning: Pass the following variable as a keyword arg: x. From version 0.12, the only valid positional argument will be `data`, and passing other arguments without an explicit keyword will result in an error or misinterpretation.\n",
            "  FutureWarning\n"
          ]
        },
        {
          "output_type": "display_data",
          "data": {
            "image/png": "[encoded data removed]",
            "text/plain": [
              "<Figure size 432x288 with 1 Axes>"
            ]
          },
          "metadata": {
            "needs_background": "light"
          }
        }
      ]
    },
    {
      "cell_type": "code",
      "metadata": {
        "id": "5JYANfNlqy8F"
      },
      "source": [
        "Y = df['loan_status']\n",
        "df = df.drop(columns=['loan_status'])"
      ],
      "execution_count": null,
      "outputs": []
    },
    {
      "cell_type": "code",
      "metadata": {
        "id": "BIeIuTwyrXjl"
      },
      "source": [
        "df['loan_status'] = Y"
      ],
      "execution_count": null,
      "outputs": []
    },
    {
      "cell_type": "code",
      "metadata": {
        "id": "Nefwq0uiqqfn"
      },
      "source": [
        "#perform the train test split.\n",
        "X_train, X_test,Y_train, Y_test = train_test_split(df, Y, stratify = Y, train_size = 0.8)\n",
        "X_train, X_cv, Y_train, Y_cv = train_test_split(X_train, Y_train, stratify = Y_train, train_size = 0.8)"
      ],
      "execution_count": null,
      "outputs": []
    },
    {
      "cell_type": "code",
      "metadata": {
        "id": "mwd6LMXqrp5b"
      },
      "source": [
        "#Featurize the title and emp_title features.\n",
        "from sklearn.feature_extraction.text import CountVectorizer\n",
        "\n",
        "vectorizer_title = CountVectorizer(max_features = 10)\n",
        "X_train_title = vectorizer_title.fit_transform(X_train['title'])\n",
        "X_cv_title = vectorizer_title.transform(X_cv['title'])\n",
        "X_test_title = vectorizer_title.transform(X_test['title'])\n",
        "\n",
        "\n",
        "vectorizer_emp_title = CountVectorizer(max_features = 20)\n",
        "X_train_emp_title = vectorizer_emp_title.fit_transform(X_train['emp_title'])\n",
        "X_cv_emp_title = vectorizer_emp_title.transform(X_cv['emp_title'])\n",
        "X_test_emp_title = vectorizer_emp_title.transform(X_test['emp_title'])\n"
      ],
      "execution_count": null,
      "outputs": []
    },
    {
      "cell_type": "code",
      "metadata": {
        "colab": {
          "base_uri": "https://localhost:8080/"
        },
        "id": "XUgGhqqCyRRV",
        "outputId": "e361b802-344d-4fe1-fad8-1d6d9b6768ff"
      },
      "source": [
        "type(X_train_title)"
      ],
      "execution_count": null,
      "outputs": [
        {
          "output_type": "execute_result",
          "data": {
            "text/plain": [
              "scipy.sparse.csr.csr_matrix"
            ]
          },
          "metadata": {},
          "execution_count": 62
        }
      ]
    },
    {
      "cell_type": "code",
      "metadata": {
        "id": "sGIo8DPSsBnQ"
      },
      "source": [
        "term = np.array(X_train['term']).reshape((len(X_train['term']),1))\n",
        "batch_enrolled = np.array(X_train['batch_enrolled']).reshape((len(X_train['batch_enrolled']),1))\n",
        "grade = np.array(X_train['grade']).reshape((len(X_train['grade']),1))\n",
        "sub_grade = np.array(X_train['sub_grade']).reshape((len(X_train['sub_grade']),1))\n",
        "emp_length = np.array(X_train['emp_length']).reshape((len(X_train['emp_length']),1))\n",
        "home_ownership = np.array(X_train['home_ownership']).reshape((len(X_train['home_ownership']),1))\n",
        "verification_status = np.array(X_train['verification_status']).reshape((len(X_train['verification_status']),1))\n",
        "pymnt_plan = np.array(X_train['pymnt_plan']).reshape((len(X_train['pymnt_plan']),1))\n",
        "purpose = np.array(X_train['purpose']).reshape((len(X_train['purpose']),1))\n",
        "zip_code = np.array(X_train['zip_code']).reshape((len(X_train['zip_code']),1))\n",
        "addr_state = np.array(X_train['addr_state']).reshape((len(X_train['addr_state']),1))\n",
        "application_type = np.array(X_train['application_type']).reshape((len(X_train['application_type']),1))\n",
        "#verification_status_joint = np.array(X_train['verification_status_joint']).reshape((len(X_train['verification_status_joint']),1))\n",
        "initial_list_status = np.array(X_train['initial_list_status']).reshape((len(X_train['initial_list_status']),1))\n",
        "last_week_pay = np.array(X_train['last_week_pay']).reshape((len(X_train['last_week_pay']),1))\n",
        "#descr = np.array(X_train['desc']).reshape((len(X_train['desc']),1))\n",
        "\n",
        "term_cv = np.array(X_cv['term']).reshape((len(X_cv['term']),1))\n",
        "batch_enrolled_cv = np.array(X_cv['batch_enrolled']).reshape((len(X_cv['batch_enrolled']),1))\n",
        "grade_cv = np.array(X_cv['grade']).reshape((len(X_cv['grade']),1))\n",
        "sub_grade_cv = np.array(X_cv['sub_grade']).reshape((len(X_cv['sub_grade']),1))\n",
        "emp_length_cv = np.array(X_cv['emp_length']).reshape((len(X_cv['emp_length']),1))\n",
        "home_ownership_cv = np.array(X_cv['home_ownership']).reshape((len(X_cv['home_ownership']),1))\n",
        "verification_status_cv = np.array(X_cv['verification_status']).reshape((len(X_cv['verification_status']),1))\n",
        "pymnt_plan_cv = np.array(X_cv['pymnt_plan']).reshape((len(X_cv['pymnt_plan']),1))\n",
        "purpose_cv = np.array(X_cv['purpose']).reshape((len(X_cv['purpose']),1))\n",
        "zip_code_cv = np.array(X_cv['zip_code']).reshape((len(X_cv['zip_code']),1))\n",
        "addr_state_cv = np.array(X_cv['addr_state']).reshape((len(X_cv['addr_state']),1))\n",
        "application_type_cv = np.array(X_cv['application_type']).reshape((len(X_cv['application_type']),1))\n",
        "#verification_status_joint_cv = np.array(X_cv['verification_status_joint']).reshape((len(X_cv['verification_status_joint']),1))\n",
        "initial_list_status_cv = np.array(X_cv['initial_list_status']).reshape((len(X_cv['initial_list_status']),1))\n",
        "last_week_pay_cv = np.array(X_cv['last_week_pay']).reshape((len(X_cv['last_week_pay']),1))\n",
        "#descr_cv = np.array(X_cv['desc']).reshape((len(X_cv['desc']),1))\n",
        "\n",
        "\n",
        "term_test = np.array(X_test['term']).reshape((len(X_test['term']),1))\n",
        "batch_enrolled_test = np.array(X_test['batch_enrolled']).reshape((len(X_test['batch_enrolled']),1))\n",
        "grade_test = np.array(X_test['grade']).reshape((len(X_test['grade']),1))\n",
        "sub_grade_test = np.array(X_test['sub_grade']).reshape((len(X_test['sub_grade']),1))\n",
        "emp_length_test = np.array(X_test['emp_length']).reshape((len(X_test['emp_length']),1))\n",
        "home_ownership_test = np.array(X_test['home_ownership']).reshape((len(X_test['home_ownership']),1))\n",
        "verification_status_test = np.array(X_test['verification_status']).reshape((len(X_test['verification_status']),1))\n",
        "pymnt_plan_test = np.array(X_test['pymnt_plan']).reshape((len(X_test['pymnt_plan']),1))\n",
        "purpose_test = np.array(X_test['purpose']).reshape((len(X_test['purpose']),1))\n",
        "zip_code_test = np.array(X_test['zip_code']).reshape((len(X_test['zip_code']),1))\n",
        "addr_state_test = np.array(X_test['addr_state']).reshape((len(X_test['addr_state']),1))\n",
        "application_type_test = np.array(X_test['application_type']).reshape((len(X_test['application_type']),1))\n",
        "#verification_status_joint_test = np.array(X_test['verification_status_joint']).reshape((len(X_test['verification_status_joint']),1))\n",
        "initial_list_status_test = np.array(X_test['initial_list_status']).reshape((len(X_test['initial_list_status']),1))\n",
        "last_week_pay_test = np.array(X_test['last_week_pay']).reshape((len(X_test['last_week_pay']),1))\n",
        "#descr_test = np.array(X_test['desc']).reshape((len(X_test['desc']),1))\n"
      ],
      "execution_count": null,
      "outputs": []
    },
    {
      "cell_type": "code",
      "metadata": {
        "id": "JyrKyEv6tIZs"
      },
      "source": [
        "from sklearn.preprocessing import OneHotEncoder\n",
        "\n",
        "ohe_term = OneHotEncoder(sparse=False, handle_unknown='ignore')\n",
        "term = ohe_term.fit_transform(term)\n",
        "term_cv = ohe_term.transform(term_cv)\n",
        "term_test = ohe_term.transform(term_test)\n",
        "\n",
        "ohe_batch_enrolled = OneHotEncoder(sparse=False, handle_unknown='ignore')\n",
        "batch_enrolled = ohe_batch_enrolled.fit_transform(batch_enrolled)\n",
        "batch_enrolled_cv = ohe_batch_enrolled.transform(batch_enrolled_cv)\n",
        "batch_enrolled_test = ohe_batch_enrolled.transform(batch_enrolled_test)\n",
        "\n",
        "ohe_grade = OneHotEncoder(sparse=False, handle_unknown='ignore')\n",
        "grade = ohe_grade.fit_transform(grade)\n",
        "grade_cv = ohe_grade.transform(grade_cv)\n",
        "grade_test = ohe_grade.transform(grade_test)\n",
        "\n",
        "ohe_sub_grade = OneHotEncoder(sparse=False, handle_unknown='ignore')\n",
        "sub_grade = ohe_sub_grade.fit_transform(sub_grade)\n",
        "sub_grade_cv = ohe_sub_grade.transform(sub_grade_cv)\n",
        "sub_grade_test = ohe_sub_grade.transform(sub_grade_test)\n",
        "\n",
        "ohe_emp_length = OneHotEncoder(sparse=False, handle_unknown='ignore')\n",
        "emp_length = ohe_emp_length.fit_transform(emp_length)\n",
        "emp_length_cv = ohe_emp_length.transform(emp_length_cv)\n",
        "emp_length_test = ohe_emp_length.transform(emp_length_test)\n",
        "\n",
        "ohe_home_ownership = OneHotEncoder(sparse=False, handle_unknown='ignore')\n",
        "home_ownership = ohe_home_ownership.fit_transform(home_ownership)\n",
        "home_ownership_cv = ohe_home_ownership.transform(home_ownership_cv)\n",
        "home_ownership_test = ohe_home_ownership.transform(home_ownership_test)\n",
        "\n",
        "ohe_verification_status = OneHotEncoder(sparse=False, handle_unknown='ignore')\n",
        "verification_status = ohe_verification_status.fit_transform(verification_status)\n",
        "verification_status_cv = ohe_verification_status.transform(verification_status_cv)\n",
        "verification_status_test = ohe_verification_status.transform(verification_status_test)\n",
        "\n",
        "ohe_pymnt_plan = OneHotEncoder(sparse=False, handle_unknown='ignore')\n",
        "pymnt_plan = ohe_pymnt_plan.fit_transform(pymnt_plan)\n",
        "pymnt_plan_cv = ohe_pymnt_plan.transform(pymnt_plan_cv)\n",
        "pymnt_plan_test = ohe_pymnt_plan.transform(pymnt_plan_test)\n",
        "\n",
        "ohe_purpose = OneHotEncoder(sparse=False, handle_unknown='ignore')\n",
        "purpose = ohe_purpose.fit_transform(purpose)\n",
        "purpose_cv = ohe_purpose.transform(purpose_cv)\n",
        "purpose_test = ohe_purpose.transform(purpose_test)\n",
        "\n",
        "ohe_zip_code = OneHotEncoder(sparse=False, handle_unknown='ignore')\n",
        "zip_code = ohe_zip_code.fit_transform(zip_code)\n",
        "zip_code_cv = ohe_zip_code.transform(zip_code_cv)\n",
        "zip_code_test = ohe_zip_code.transform(zip_code_test)\n",
        "\n",
        "ohe_addr_state = OneHotEncoder(sparse=False, handle_unknown='ignore')\n",
        "addr_state = ohe_addr_state.fit_transform(addr_state)\n",
        "addr_state_cv = ohe_addr_state.transform(addr_state_cv)\n",
        "addr_state_test = ohe_addr_state.transform(addr_state_test)\n",
        "\n",
        "ohe_application_type = OneHotEncoder(sparse=False, handle_unknown='ignore')\n",
        "application_type = ohe_application_type.fit_transform(application_type)\n",
        "application_type_cv = ohe_application_type.transform(application_type_cv)\n",
        "application_type_test = ohe_application_type.transform(application_type_test)\n",
        "\n",
        "\n",
        "ohe_initial_list_status = OneHotEncoder(sparse=False, handle_unknown='ignore')\n",
        "initial_list_status = ohe_initial_list_status.fit_transform(initial_list_status)\n",
        "initial_list_status_cv = ohe_initial_list_status.transform(initial_list_status_cv)\n",
        "initial_list_status_test = ohe_initial_list_status.transform(initial_list_status_test)\n",
        "\n",
        "ohe_last_week_pay = OneHotEncoder(sparse=False, handle_unknown='ignore')\n",
        "last_week_pay = ohe_last_week_pay.fit_transform(last_week_pay)\n",
        "last_week_pay_cv = ohe_last_week_pay.transform(last_week_pay_cv)\n",
        "last_week_pay_test = ohe_last_week_pay.transform(last_week_pay_test)"
      ],
      "execution_count": null,
      "outputs": []
    },
    {
      "cell_type": "code",
      "metadata": {
        "id": "MLfYcOYouBwr"
      },
      "source": [
        "train = X_train[['funded_amnt_inv',\n",
        "       'int_rate',\n",
        "        'annual_inc', \n",
        "       'dti',\n",
        "       'delinq_2yrs', 'inq_last_6mths', 'open_acc', 'pub_rec', 'revol_bal',\n",
        "       'revol_util', 'total_acc',  'total_rec_int',\n",
        "       'total_rec_late_fee', 'recoveries', 'collection_recovery_fee',\n",
        "       'collections_12_mths_ex_med', \n",
        "        \n",
        "       'acc_now_delinq', 'tot_coll_amt', 'tot_cur_bal', 'total_rev_hi_lim',\n",
        "       ]]\n",
        "\n",
        "cv = X_cv[['funded_amnt_inv',\n",
        "       'int_rate',\n",
        "        'annual_inc', \n",
        "       'dti',\n",
        "       'delinq_2yrs', 'inq_last_6mths', 'open_acc', 'pub_rec', 'revol_bal',\n",
        "       'revol_util', 'total_acc',  'total_rec_int',\n",
        "       'total_rec_late_fee', 'recoveries', 'collection_recovery_fee',\n",
        "       'collections_12_mths_ex_med', \n",
        "       \n",
        "       'acc_now_delinq', 'tot_coll_amt', 'tot_cur_bal', 'total_rev_hi_lim',\n",
        "       ]]\n",
        "\n",
        "test = X_test[['funded_amnt_inv',\n",
        "       'int_rate',\n",
        "        'annual_inc', \n",
        "       'dti',\n",
        "       'delinq_2yrs', 'inq_last_6mths', 'open_acc', 'pub_rec', 'revol_bal',\n",
        "       'revol_util', 'total_acc',  'total_rec_int',\n",
        "       'total_rec_late_fee', 'recoveries', 'collection_recovery_fee',\n",
        "       'collections_12_mths_ex_med', \n",
        "        \n",
        "       'acc_now_delinq', 'tot_coll_amt', 'tot_cur_bal', 'total_rev_hi_lim',\n",
        "       ]]"
      ],
      "execution_count": null,
      "outputs": []
    },
    {
      "cell_type": "code",
      "metadata": {
        "id": "1PLXFx5gyoqe"
      },
      "source": [
        "X_train_title = X_train_title.toarray()\n",
        "X_train_emp_title = X_train_emp_title.toarray()"
      ],
      "execution_count": null,
      "outputs": []
    },
    {
      "cell_type": "code",
      "metadata": {
        "id": "7KEBfVOny2IB"
      },
      "source": [
        "X_cv_title = X_cv_title.toarray()\n",
        "X_cv_emp_title = X_cv_emp_title.toarray()"
      ],
      "execution_count": null,
      "outputs": []
    },
    {
      "cell_type": "code",
      "metadata": {
        "id": "kiPH3Z8PzElB"
      },
      "source": [
        "X_test_title = X_test_title.toarray()\n",
        "X_test_emp_title = X_test_emp_title.toarray()"
      ],
      "execution_count": null,
      "outputs": []
    },
    {
      "cell_type": "code",
      "metadata": {
        "id": "XZDiFETixSry"
      },
      "source": [
        "#title, emp_title included\n",
        "cat = np.concatenate((term,batch_enrolled,grade,sub_grade,emp_length,home_ownership, verification_status, pymnt_plan, purpose, zip_code, addr_state, application_type, initial_list_status,last_week_pay, X_train_title, X_train_emp_title ), axis=1)\n",
        "cat_cv = np.concatenate((term_cv,batch_enrolled_cv,grade_cv,sub_grade_cv,emp_length_cv,home_ownership_cv,verification_status_cv, pymnt_plan_cv, purpose_cv, zip_code_cv, addr_state_cv, application_type_cv, initial_list_status_cv,last_week_pay_cv, X_cv_title, X_cv_emp_title ), axis=1)\n",
        "cat_test = np.concatenate((term_test,batch_enrolled_test,grade_test,sub_grade_test,emp_length_test,home_ownership_test, verification_status_test, pymnt_plan_test, purpose_test, zip_code_test, addr_state_test, application_type_test, initial_list_status_test,last_week_pay_test, X_test_title, X_test_emp_title ), axis=1)"
      ],
      "execution_count": null,
      "outputs": []
    },
    {
      "cell_type": "code",
      "metadata": {
        "id": "FdQWoumOvSgq"
      },
      "source": [
        "\n",
        "cat = np.concatenate((term,batch_enrolled,grade,sub_grade,emp_length,home_ownership, verification_status, pymnt_plan, purpose, zip_code, addr_state, application_type, initial_list_status,last_week_pay ), axis=1)\n",
        "cat_cv = np.concatenate((term_cv,batch_enrolled_cv,grade_cv,sub_grade_cv,emp_length_cv,home_ownership_cv,verification_status_cv, pymnt_plan_cv, purpose_cv, zip_code_cv, addr_state_cv, application_type_cv, initial_list_status_cv,last_week_pay_cv ), axis=1)\n",
        "cat_test = np.concatenate((term_test,batch_enrolled_test,grade_test,sub_grade_test,emp_length_test,home_ownership_test, verification_status_test, pymnt_plan_test, purpose_test, zip_code_test, addr_state_test, application_type_test, initial_list_status_test,last_week_pay_test ), axis=1)"
      ],
      "execution_count": null,
      "outputs": []
    },
    {
      "cell_type": "code",
      "metadata": {
        "id": "gt8lyX64vNfT"
      },
      "source": [
        "tr_ = np.concatenate((train,cat), axis =1)\n",
        "cv_ = np.concatenate((cv,cat_cv), axis =1)\n",
        "ts_ = np.concatenate((test,cat_test), axis =1)"
      ],
      "execution_count": null,
      "outputs": []
    },
    {
      "cell_type": "code",
      "metadata": {
        "id": "s41qjoFcv5jz"
      },
      "source": [
        "label = to_categorical(Y_train)\n",
        "label_cv = to_categorical(Y_cv)\n",
        "label_test = to_categorical(Y_test)"
      ],
      "execution_count": null,
      "outputs": []
    },
    {
      "cell_type": "code",
      "metadata": {
        "colab": {
          "base_uri": "https://localhost:8080/"
        },
        "id": "CvzW4Ffgv_nU",
        "outputId": "15c29a0d-9ef0-4f4b-c950-703b4950b88e"
      },
      "source": [
        "#Model\n",
        "\n",
        "n_hidden1 = 64\n",
        "n_hidden2 = 48\n",
        "epochs = 20\n",
        "n_classes = 2\n",
        "batch_size = 32\n",
        "# Initiliazing the sequential model\n",
        "model = keras.Sequential()\n",
        "\n",
        "# Configuring the parameters\n",
        "model.add(layers.Dense(n_hidden2, activation='relu', input_shape=(tr_.shape[1],), kernel_initializer='glorot_normal'))\n",
        "\n",
        "# Configuring the parameters\n",
        "model.add(layers.Dense(n_hidden2, activation='relu', kernel_initializer='glorot_normal'))\n",
        "\n",
        "# Adding a dropout layer\n",
        "model.add(layers.Dropout(0.3))\n",
        "\n",
        "\n",
        "# Adding a dense output layer with relu activation\n",
        "model.add(layers.Dense(n_hidden1, activation='relu', kernel_initializer='he_normal'))\n",
        "\n",
        "# Adding a dropout layer\n",
        "model.add(layers.Dropout(0.3))\n",
        "\n",
        "# Adding a dense output layer with softmax activation\n",
        "model.add(layers.Dense(2, activation='softmax'))\n",
        "\n",
        "print (model.summary())\n",
        "\n",
        "auc = tf.keras.metrics.AUC()\n",
        "\n",
        "# Compiling the model\n",
        "model.compile(loss= 'binary_crossentropy',\n",
        "              optimizer='adam',\n",
        "              metrics=[tf.keras.metrics.AUC(100)])\n",
        "\n",
        "# Training the model\n",
        "model.fit(tr_,\n",
        "          label,\n",
        "          batch_size=batch_size,\n",
        "          validation_data=(cv_, label_cv),\n",
        "          epochs=5)"
      ],
      "execution_count": null,
      "outputs": [
        {
          "output_type": "stream",
          "name": "stdout",
          "text": [
            "Model: \"sequential_2\"\n",
            "_________________________________________________________________\n",
            "Layer (type)                 Output Shape              Param #   \n",
            "=================================================================\n",
            "dense_8 (Dense)              (None, 48)                18480     \n",
            "_________________________________________________________________\n",
            "dense_9 (Dense)              (None, 48)                2352      \n",
            "_________________________________________________________________\n",
            "dropout_4 (Dropout)          (None, 48)                0         \n",
            "_________________________________________________________________\n",
            "dense_10 (Dense)             (None, 64)                3136      \n",
            "_________________________________________________________________\n",
            "dropout_5 (Dropout)          (None, 64)                0         \n",
            "_________________________________________________________________\n",
            "dense_11 (Dense)             (None, 2)                 130       \n",
            "=================================================================\n",
            "Total params: 24,098\n",
            "Trainable params: 24,098\n",
            "Non-trainable params: 0\n",
            "_________________________________________________________________\n",
            "None\n",
            "Epoch 1/5\n",
            "7759/7759 [==============================] - 19s 2ms/step - loss: 11.8141 - auc_5: 0.8042 - val_loss: 0.4872 - val_auc_5: 0.8096\n",
            "Epoch 2/5\n",
            "7759/7759 [==============================] - 18s 2ms/step - loss: 0.4895 - auc_5: 0.8092 - val_loss: 0.4869 - val_auc_5: 0.8096\n",
            "Epoch 3/5\n",
            "7759/7759 [==============================] - 17s 2ms/step - loss: 0.4875 - auc_5: 0.8091 - val_loss: 0.4871 - val_auc_5: 0.8095\n",
            "Epoch 4/5\n",
            "7759/7759 [==============================] - 18s 2ms/step - loss: 0.4871 - auc_5: 0.8094 - val_loss: 0.4874 - val_auc_5: 0.8095\n",
            "Epoch 5/5\n",
            "7759/7759 [==============================] - 18s 2ms/step - loss: 0.4872 - auc_5: 0.8104 - val_loss: 0.4869 - val_auc_5: 0.8096\n"
          ]
        },
        {
          "output_type": "execute_result",
          "data": {
            "text/plain": [
              "<keras.callbacks.History at 0x7facf4add9d0>"
            ]
          },
          "metadata": {},
          "execution_count": 95
        }
      ]
    },
    {
      "cell_type": "code",
      "metadata": {
        "id": "Pza6WOFF33_D"
      },
      "source": [
        "y = model.predict(ts_)"
      ],
      "execution_count": null,
      "outputs": []
    },
    {
      "cell_type": "code",
      "metadata": {
        "colab": {
          "base_uri": "https://localhost:8080/"
        },
        "id": "f_6L3MeJ4gcF",
        "outputId": "2adc9426-0ddc-41c7-e312-389c7c7d1c48"
      },
      "source": [
        "count = 0\n",
        "for i in range(y.shape[0]):\n",
        "  if y[i][0] < y [i][1]:\n",
        "    count+=1\n",
        "    print(i)\n",
        "count"
      ],
      "execution_count": null,
      "outputs": [
        {
          "output_type": "stream",
          "name": "stdout",
          "text": [
            "58245\n"
          ]
        },
        {
          "output_type": "execute_result",
          "data": {
            "text/plain": [
              "1"
            ]
          },
          "metadata": {},
          "execution_count": 102
        }
      ]
    },
    {
      "cell_type": "code",
      "metadata": {
        "colab": {
          "base_uri": "https://localhost:8080/"
        },
        "id": "UAvQNfwS5Fqq",
        "outputId": "fedd5786-2ca9-4952-c111-0c9136d34194"
      },
      "source": [
        "print(y[58245])"
      ],
      "execution_count": null,
      "outputs": [
        {
          "output_type": "stream",
          "name": "stdout",
          "text": [
            "[0. 1.]\n"
          ]
        }
      ]
    },
    {
      "cell_type": "markdown",
      "metadata": {
        "id": "wNbOVFHbhtll"
      },
      "source": [
        "## Random Forest on cleaned data"
      ]
    },
    {
      "cell_type": "code",
      "metadata": {
        "id": "xsQR7dmcnNrJ"
      },
      "source": [
        "\n"
      ],
      "execution_count": null,
      "outputs": []
    },
    {
      "cell_type": "code",
      "metadata": {
        "colab": {
          "base_uri": "https://localhost:8080/"
        },
        "id": "_6olf6C-5TA5",
        "outputId": "866f1b49-52d6-44ac-c33f-3a18b495a95d"
      },
      "source": [
        "from sklearn.ensemble import RandomForestClassifier\n",
        "from sklearn.metrics import roc_curve, auc\n",
        "from sklearn.model_selection import GridSearchCV\n",
        "\n",
        "\n",
        "rf=RandomForestClassifier(min_samples_split=20)\n",
        "parameters={'n_estimators': [100], 'max_depth': [8]}\n",
        "\n",
        "clf=GridSearchCV(rf,parameters,scoring='roc_auc',return_train_score='True')\n",
        "clf.fit(tr_,Y_train)\n",
        "\n"
      ],
      "execution_count": null,
      "outputs": [
        {
          "output_type": "execute_result",
          "data": {
            "text/plain": [
              "GridSearchCV(cv=None, error_score=nan,\n",
              "             estimator=RandomForestClassifier(bootstrap=True, ccp_alpha=0.0,\n",
              "                                              class_weight=None,\n",
              "                                              criterion='gini', max_depth=None,\n",
              "                                              max_features='auto',\n",
              "                                              max_leaf_nodes=None,\n",
              "                                              max_samples=None,\n",
              "                                              min_impurity_decrease=0.0,\n",
              "                                              min_impurity_split=None,\n",
              "                                              min_samples_leaf=1,\n",
              "                                              min_samples_split=20,\n",
              "                                              min_weight_fraction_leaf=0.0,\n",
              "                                              n_estimators=100, n_jobs=None,\n",
              "                                              oob_score=False,\n",
              "                                              random_state=None, verbose=0,\n",
              "                                              warm_start=False),\n",
              "             iid='deprecated', n_jobs=None,\n",
              "             param_grid={'max_depth': [8], 'n_estimators': [100]},\n",
              "             pre_dispatch='2*n_jobs', refit=True, return_train_score='True',\n",
              "             scoring='roc_auc', verbose=0)"
            ]
          },
          "metadata": {},
          "execution_count": 122
        }
      ]
    },
    {
      "cell_type": "code",
      "metadata": {
        "colab": {
          "base_uri": "https://localhost:8080/"
        },
        "id": "P_ekB_oBAXii",
        "outputId": "271bf0ab-344f-4cfe-e757-572d7ea1f3e5"
      },
      "source": [
        "clf.best_score_"
      ],
      "execution_count": null,
      "outputs": [
        {
          "output_type": "execute_result",
          "data": {
            "text/plain": [
              "0.783723537342533"
            ]
          },
          "metadata": {},
          "execution_count": 123
        }
      ]
    },
    {
      "cell_type": "code",
      "metadata": {
        "id": "j0Gngli3XjPr"
      },
      "source": [
        "yy = clf.predict_proba(ts_)"
      ],
      "execution_count": null,
      "outputs": []
    },
    {
      "cell_type": "code",
      "metadata": {
        "colab": {
          "base_uri": "https://localhost:8080/"
        },
        "id": "7kCDjHuaXv6b",
        "outputId": "e240b7b6-9128-4cc3-df65-9647e291e9d0"
      },
      "source": [
        "count=0\n",
        "for i in range(yy.shape[0]):\n",
        "  if yy[i] > 0:\n",
        "    count+=1\n",
        "count"
      ],
      "execution_count": null,
      "outputs": [
        {
          "output_type": "execute_result",
          "data": {
            "text/plain": [
              "623"
            ]
          },
          "metadata": {},
          "execution_count": 125
        }
      ]
    },
    {
      "cell_type": "code",
      "metadata": {
        "colab": {
          "base_uri": "https://localhost:8080/"
        },
        "id": "ug8Z3JgilM2z",
        "outputId": "3f2531d4-1708-412b-9a5c-8c91d80e1738"
      },
      "source": [
        "yy"
      ],
      "execution_count": null,
      "outputs": [
        {
          "output_type": "execute_result",
          "data": {
            "text/plain": [
              "array([[0.8160419 , 0.1839581 ],\n",
              "       [0.81009629, 0.18990371],\n",
              "       [0.78654725, 0.21345275],\n",
              "       ...,\n",
              "       [0.78804332, 0.21195668],\n",
              "       [0.83078201, 0.16921799],\n",
              "       [0.85137311, 0.14862689]])"
            ]
          },
          "metadata": {},
          "execution_count": 129
        }
      ]
    },
    {
      "cell_type": "markdown",
      "metadata": {
        "id": "5VRA8DNqhyXR"
      },
      "source": [
        "## XGBoost on Cleaned Data"
      ]
    },
    {
      "cell_type": "code",
      "metadata": {
        "colab": {
          "base_uri": "https://localhost:8080/"
        },
        "id": "4w9xAO25pUX8",
        "outputId": "cf0b6557-d3d0-4072-fad0-bb7c086cdc4e"
      },
      "source": [
        "from xgboost import XGBClassifier\n",
        "from sklearn.model_selection import GridSearchCV\n",
        "from sklearn.metrics import roc_curve, auc\n",
        "\n",
        "xgb=XGBClassifier()\n",
        "parameters={'n_estimators': [100], 'max_depth': [3]}\n",
        "\n",
        "clf=GridSearchCV(xgb,parameters,scoring='roc_auc',return_train_score='True')\n",
        "clf.fit(tr_,Y_train)"
      ],
      "execution_count": null,
      "outputs": [
        {
          "output_type": "execute_result",
          "data": {
            "text/plain": [
              "GridSearchCV(cv=None, error_score=nan,\n",
              "             estimator=XGBClassifier(base_score=0.5, booster='gbtree',\n",
              "                                     colsample_bylevel=1, colsample_bynode=1,\n",
              "                                     colsample_bytree=1, gamma=0,\n",
              "                                     learning_rate=0.1, max_delta_step=0,\n",
              "                                     max_depth=3, min_child_weight=1,\n",
              "                                     missing=None, n_estimators=100, n_jobs=1,\n",
              "                                     nthread=None, objective='binary:logistic',\n",
              "                                     random_state=0, reg_alpha=0, reg_lambda=1,\n",
              "                                     scale_pos_weight=1, seed=None, silent=None,\n",
              "                                     subsample=1, verbosity=1),\n",
              "             iid='deprecated', n_jobs=None,\n",
              "             param_grid={'max_depth': [3], 'n_estimators': [100]},\n",
              "             pre_dispatch='2*n_jobs', refit=True, return_train_score='True',\n",
              "             scoring='roc_auc', verbose=0)"
            ]
          },
          "metadata": {},
          "execution_count": 25
        }
      ]
    },
    {
      "cell_type": "code",
      "metadata": {
        "colab": {
          "base_uri": "https://localhost:8080/"
        },
        "id": "XpOk1aYPPJMi",
        "outputId": "932f045c-0a08-43d7-ed7b-24a04fa0be4a"
      },
      "source": [
        "clf.best_score_"
      ],
      "execution_count": null,
      "outputs": [
        {
          "output_type": "execute_result",
          "data": {
            "text/plain": [
              "0.8588131927963533"
            ]
          },
          "metadata": {},
          "execution_count": 26
        }
      ]
    },
    {
      "cell_type": "code",
      "metadata": {
        "id": "Zy27DqVZRoIo"
      },
      "source": [
        "yyz = clf.predict(ts_)"
      ],
      "execution_count": null,
      "outputs": []
    },
    {
      "cell_type": "code",
      "metadata": {
        "colab": {
          "base_uri": "https://localhost:8080/"
        },
        "id": "sJRlSOY9RwcW",
        "outputId": "24362d51-e17e-490b-8c99-54a907e25202"
      },
      "source": [
        "yyz"
      ],
      "execution_count": null,
      "outputs": [
        {
          "output_type": "execute_result",
          "data": {
            "text/plain": [
              "array([0, 0, 0, ..., 0, 0, 0])"
            ]
          },
          "metadata": {},
          "execution_count": 133
        }
      ]
    },
    {
      "cell_type": "code",
      "metadata": {
        "colab": {
          "base_uri": "https://localhost:8080/"
        },
        "id": "pFulZMqmRviA",
        "outputId": "6d829ca8-daa6-43a8-becc-192a4ebfdbc6"
      },
      "source": [
        "count=0\n",
        "for i in range(yyz.shape[0]):\n",
        "  if yyz[i] > 0:\n",
        "    count+=1\n",
        "count"
      ],
      "execution_count": null,
      "outputs": [
        {
          "output_type": "execute_result",
          "data": {
            "text/plain": [
              "2860"
            ]
          },
          "metadata": {},
          "execution_count": 28
        }
      ]
    },
    {
      "cell_type": "code",
      "metadata": {
        "colab": {
          "base_uri": "https://localhost:8080/"
        },
        "id": "djvnp-LwsqMq",
        "outputId": "4ec70c26-60b6-4693-86fb-4bd769379052"
      },
      "source": [
        "from sklearn.metrics import roc_auc_score\n",
        "roc_auc_score(Y_test, clf.predict(ts_))\n",
        "\n"
      ],
      "execution_count": null,
      "outputs": [
        {
          "output_type": "execute_result",
          "data": {
            "text/plain": [
              "0.5842866618907373"
            ]
          },
          "metadata": {},
          "execution_count": 83
        }
      ]
    },
    {
      "cell_type": "code",
      "metadata": {
        "colab": {
          "base_uri": "https://localhost:8080/"
        },
        "id": "j3GAdFRWtJyw",
        "outputId": "0b232efc-8e5a-45c7-b16e-78177e3c2648"
      },
      "source": [
        "ts_.shape"
      ],
      "execution_count": null,
      "outputs": [
        {
          "output_type": "execute_result",
          "data": {
            "text/plain": [
              "(77590, 353)"
            ]
          },
          "metadata": {},
          "execution_count": 81
        }
      ]
    },
    {
      "cell_type": "markdown",
      "metadata": {
        "id": "hpe3TD_eh3ve"
      },
      "source": [
        "## Inference"
      ]
    },
    {
      "cell_type": "markdown",
      "metadata": {
        "id": "zdQ08-8yvWPE"
      },
      "source": [
        "1. Deep Learning model were biased towards class 0\n",
        "2. Due to the structure of the data, it was not possible to to train the good deep learning models. I tried both with cleaning the data and without cleaning (filling the empty values accordingly).\n",
        "3. Classical ML algorithms were performing better here than Deep Learning Model.\n",
        "4. They were able to predict the class 1 with the unseen data. Among the two, XGBoost was able to predict more datapoints with class 1. \n",
        "5. So the submission is made by predicting the points on test_indessa.csv using XGBoost classifier.\n"
      ]
    },
    {
      "cell_type": "markdown",
      "metadata": {
        "id": "S4EKBt4wh7Hh"
      },
      "source": [
        "##Submission\n"
      ]
    },
    {
      "cell_type": "code",
      "metadata": {
        "id": "3vLrhivzSLwZ"
      },
      "source": [
        "df_ts = pd.read_csv(\"test_indessa.csv\")\n"
      ],
      "execution_count": null,
      "outputs": []
    },
    {
      "cell_type": "code",
      "metadata": {
        "id": "IRkLvRr4T-O5"
      },
      "source": [
        "df_ts = df_ts.drop(columns=['mths_since_last_delinq', 'desc', 'mths_since_last_record', 'mths_since_last_major_derog', 'verification_status_joint', 'mths_since_last_delinq' ])"
      ],
      "execution_count": null,
      "outputs": []
    },
    {
      "cell_type": "code",
      "metadata": {
        "id": "_EG0-eYTUnf1"
      },
      "source": [
        "dss = df_ts"
      ],
      "execution_count": null,
      "outputs": []
    },
    {
      "cell_type": "code",
      "metadata": {
        "id": "I4Ze6GiyUTKK"
      },
      "source": [
        "# using dropna() function  we drop the rows with atleast one null value in the row\n",
        "dss = dss.dropna()"
      ],
      "execution_count": null,
      "outputs": []
    },
    {
      "cell_type": "code",
      "metadata": {
        "id": "v47TYdloVDmO"
      },
      "source": [
        "dss = dss.drop(columns = ['loan_amnt','funded_amnt'])"
      ],
      "execution_count": null,
      "outputs": []
    },
    {
      "cell_type": "code",
      "metadata": {
        "id": "VKmhxBiRkEfM"
      },
      "source": [
        "id = dss['member_id']"
      ],
      "execution_count": null,
      "outputs": []
    },
    {
      "cell_type": "code",
      "metadata": {
        "id": "zSiCqbDTkX_j"
      },
      "source": [
        "dss = dss.drop(columns = ['member_id'])"
      ],
      "execution_count": null,
      "outputs": []
    },
    {
      "cell_type": "code",
      "metadata": {
        "colab": {
          "base_uri": "https://localhost:8080/",
          "height": 35
        },
        "id": "b_LeHCs-VoIU",
        "outputId": "e2f37ace-2a84-4989-8f66-c1349e92252f"
      },
      "source": [
        "#Featurize the title and emp_title features.\n",
        "\n",
        "test_title_ = vectorizer_title.transform(dss['title'])\n",
        "test_emp_title_ = vectorizer_emp_title.transform(dss['emp_title'])"
      ],
      "execution_count": 2,
      "outputs": [
        {
          "output_type": "execute_result",
          "data": {
            "application/vnd.google.colaboratory.intrinsic+json": {
              "type": "string"
            },
            "text/plain": [
              "\"\\ntest_title_ = vectorizer_title.transform(dss['title'])\\n\\n\\n\\ntest_emp_title_ = vectorizer_emp_title.transform(dss['emp_title'])\\n\""
            ]
          },
          "metadata": {},
          "execution_count": 2
        }
      ]
    },
    {
      "cell_type": "code",
      "metadata": {
        "id": "ymohHED1Wd99"
      },
      "source": [
        "_term = np.array(dss['term']).reshape((len(dss['term']),1))\n",
        "_batch_enrolled = np.array(dss['batch_enrolled']).reshape((len(dss['batch_enrolled']),1))\n",
        "_grade = np.array(dss['grade']).reshape((len(dss['grade']),1))\n",
        "_sub_grade = np.array(dss['sub_grade']).reshape((len(dss['sub_grade']),1))\n",
        "_emp_length = np.array(dss['emp_length']).reshape((len(dss['emp_length']),1))\n",
        "_home_ownership = np.array(dss['home_ownership']).reshape((len(dss['home_ownership']),1))\n",
        "_verification_status = np.array(dss['verification_status']).reshape((len(dss['verification_status']),1))\n",
        "_pymnt_plan = np.array(dss['pymnt_plan']).reshape((len(dss['pymnt_plan']),1))\n",
        "_purpose = np.array(dss['purpose']).reshape((len(dss['purpose']),1))\n",
        "_zip_code = np.array(dss['zip_code']).reshape((len(dss['zip_code']),1))\n",
        "_addr_state = np.array(dss['addr_state']).reshape((len(dss['addr_state']),1))\n",
        "_application_type = np.array(dss['application_type']).reshape((len(dss['application_type']),1))\n",
        "#verification_status_joint = np.array(dss['verification_status_joint']).reshape((len(dss['verification_status_joint']),1))\n",
        "_initial_list_status = np.array(dss['initial_list_status']).reshape((len(dss['initial_list_status']),1))\n",
        "_last_week_pay = np.array(dss['last_week_pay']).reshape((len(dss['last_week_pay']),1))"
      ],
      "execution_count": null,
      "outputs": []
    },
    {
      "cell_type": "code",
      "metadata": {
        "id": "ule_UMPVXKBP"
      },
      "source": [
        "from sklearn.preprocessing import OneHotEncoder\n",
        "\n",
        "_term = ohe_term.transform(_term)\n",
        "_batch_enrolled = ohe_batch_enrolled.transform(_batch_enrolled)\n",
        "_grade = ohe_grade.transform(_grade)\n",
        "_sub_grade = ohe_sub_grade.transform(_sub_grade)\n",
        "_emp_length = ohe_emp_length.transform(_emp_length)\n",
        "_home_ownership = ohe_home_ownership.transform(_home_ownership)\n",
        "_verification_status = ohe_verification_status.transform(_verification_status)\n",
        "_pymnt_plan = ohe_pymnt_plan.transform(_pymnt_plan)\n",
        "_purpose = ohe_purpose.transform(_purpose)\n",
        "_zip_code = ohe_zip_code.transform(_zip_code)\n",
        "_addr_state = ohe_addr_state.transform(_addr_state)\n",
        "_application_type = ohe_application_type.transform(_application_type)\n",
        "_initial_list_status = ohe_initial_list_status.transform(_initial_list_status)\n",
        "_last_week_pay = ohe_last_week_pay.transform(_last_week_pay)"
      ],
      "execution_count": null,
      "outputs": []
    },
    {
      "cell_type": "code",
      "metadata": {
        "id": "KJPg2cG1bqmK"
      },
      "source": [
        "_dss = dss[['funded_amnt_inv',\n",
        "       'int_rate',\n",
        "        'annual_inc', \n",
        "       'dti',\n",
        "       'delinq_2yrs', 'inq_last_6mths', 'open_acc', 'pub_rec', 'revol_bal',\n",
        "       'revol_util', 'total_acc',  'total_rec_int',\n",
        "       'total_rec_late_fee', 'recoveries', 'collection_recovery_fee',\n",
        "       'collections_12_mths_ex_med', \n",
        "        \n",
        "       'acc_now_delinq', 'tot_coll_amt', 'tot_cur_bal', 'total_rev_hi_lim',\n",
        "       ]]"
      ],
      "execution_count": null,
      "outputs": []
    },
    {
      "cell_type": "code",
      "metadata": {
        "id": "X2f3NRaWbxAs"
      },
      "source": [
        "\n",
        "_cat = np.concatenate((_term,_batch_enrolled,_grade,_sub_grade,_emp_length,_home_ownership, _verification_status, _pymnt_plan, _purpose, _zip_code, _addr_state, _application_type, _initial_list_status,_last_week_pay ), axis=1)"
      ],
      "execution_count": null,
      "outputs": []
    },
    {
      "cell_type": "code",
      "metadata": {
        "id": "EPZ5UecGcRyV"
      },
      "source": [
        "_ts = np.concatenate((_dss,_cat), axis =1)"
      ],
      "execution_count": null,
      "outputs": []
    },
    {
      "cell_type": "code",
      "metadata": {
        "colab": {
          "base_uri": "https://localhost:8080/"
        },
        "id": "oVEUP0yJccvf",
        "outputId": "c911ea11-1a71-4575-8e79-961e024ab834"
      },
      "source": [
        "predict = clf.predict_proba(_ts)\n",
        "predict"
      ],
      "execution_count": null,
      "outputs": [
        {
          "output_type": "execute_result",
          "data": {
            "text/plain": [
              "array([[0.8467694 , 0.15323061],\n",
              "       [0.8831335 , 0.11686654],\n",
              "       [0.84731436, 0.15268564],\n",
              "       ...,\n",
              "       [0.7916175 , 0.20838247],\n",
              "       [0.71613693, 0.28386304],\n",
              "       [0.79420036, 0.20579964]], dtype=float32)"
            ]
          },
          "metadata": {},
          "execution_count": 42
        }
      ]
    },
    {
      "cell_type": "code",
      "metadata": {
        "id": "wUfbl23uiz1x"
      },
      "source": [
        "prob = []\n",
        "for i in range(predict.shape[0]):\n",
        "  prob.append(predict[i][1])\n"
      ],
      "execution_count": null,
      "outputs": []
    },
    {
      "cell_type": "code",
      "metadata": {
        "id": "oecFCj3WkeJa"
      },
      "source": [
        "subm = pd.DataFrame()\n"
      ],
      "execution_count": null,
      "outputs": []
    },
    {
      "cell_type": "code",
      "metadata": {
        "id": "tYPSXNPxkhey"
      },
      "source": [
        "subm['member_id'] = id"
      ],
      "execution_count": null,
      "outputs": []
    },
    {
      "cell_type": "code",
      "metadata": {
        "id": "wVV5qvqakmZE"
      },
      "source": [
        "subm['probability of being defaulter'] = prob"
      ],
      "execution_count": null,
      "outputs": []
    },
    {
      "cell_type": "code",
      "metadata": {
        "colab": {
          "base_uri": "https://localhost:8080/",
          "height": 1000
        },
        "id": "ASqANQzAksLt",
        "outputId": "681d8d92-f99e-412b-e03b-3013eb8e84c3"
      },
      "source": [
        "subm.head(50)"
      ],
      "execution_count": null,
      "outputs": [
        {
          "output_type": "execute_result",
          "data": {
            "text/html": [
              "<div>\n",
              "<style scoped>\n",
              "    .dataframe tbody tr th:only-of-type {\n",
              "        vertical-align: middle;\n",
              "    }\n",
              "\n",
              "    .dataframe tbody tr th {\n",
              "        vertical-align: top;\n",
              "    }\n",
              "\n",
              "    .dataframe thead th {\n",
              "        text-align: right;\n",
              "    }\n",
              "</style>\n",
              "<table border=\"1\" class=\"dataframe\">\n",
              "  <thead>\n",
              "    <tr style=\"text-align: right;\">\n",
              "      <th></th>\n",
              "      <th>member_id</th>\n",
              "      <th>probability of being defaulter</th>\n",
              "    </tr>\n",
              "  </thead>\n",
              "  <tbody>\n",
              "    <tr>\n",
              "      <th>0</th>\n",
              "      <td>11937648</td>\n",
              "      <td>0.153231</td>\n",
              "    </tr>\n",
              "    <tr>\n",
              "      <th>1</th>\n",
              "      <td>38983318</td>\n",
              "      <td>0.116867</td>\n",
              "    </tr>\n",
              "    <tr>\n",
              "      <th>2</th>\n",
              "      <td>27999917</td>\n",
              "      <td>0.152686</td>\n",
              "    </tr>\n",
              "    <tr>\n",
              "      <th>3</th>\n",
              "      <td>61514932</td>\n",
              "      <td>0.173115</td>\n",
              "    </tr>\n",
              "    <tr>\n",
              "      <th>4</th>\n",
              "      <td>59622821</td>\n",
              "      <td>0.187859</td>\n",
              "    </tr>\n",
              "    <tr>\n",
              "      <th>5</th>\n",
              "      <td>28822038</td>\n",
              "      <td>0.110019</td>\n",
              "    </tr>\n",
              "    <tr>\n",
              "      <th>6</th>\n",
              "      <td>10718089</td>\n",
              "      <td>0.192196</td>\n",
              "    </tr>\n",
              "    <tr>\n",
              "      <th>7</th>\n",
              "      <td>58114582</td>\n",
              "      <td>0.245384</td>\n",
              "    </tr>\n",
              "    <tr>\n",
              "      <th>8</th>\n",
              "      <td>35023176</td>\n",
              "      <td>0.235314</td>\n",
              "    </tr>\n",
              "    <tr>\n",
              "      <th>10</th>\n",
              "      <td>15559751</td>\n",
              "      <td>0.288338</td>\n",
              "    </tr>\n",
              "    <tr>\n",
              "      <th>12</th>\n",
              "      <td>53958774</td>\n",
              "      <td>0.122348</td>\n",
              "    </tr>\n",
              "    <tr>\n",
              "      <th>13</th>\n",
              "      <td>8074949</td>\n",
              "      <td>0.240241</td>\n",
              "    </tr>\n",
              "    <tr>\n",
              "      <th>14</th>\n",
              "      <td>67601509</td>\n",
              "      <td>0.118740</td>\n",
              "    </tr>\n",
              "    <tr>\n",
              "      <th>15</th>\n",
              "      <td>65560239</td>\n",
              "      <td>0.191490</td>\n",
              "    </tr>\n",
              "    <tr>\n",
              "      <th>16</th>\n",
              "      <td>14767770</td>\n",
              "      <td>0.225309</td>\n",
              "    </tr>\n",
              "    <tr>\n",
              "      <th>18</th>\n",
              "      <td>9899439</td>\n",
              "      <td>0.270503</td>\n",
              "    </tr>\n",
              "    <tr>\n",
              "      <th>19</th>\n",
              "      <td>15120294</td>\n",
              "      <td>0.166411</td>\n",
              "    </tr>\n",
              "    <tr>\n",
              "      <th>20</th>\n",
              "      <td>12019444</td>\n",
              "      <td>0.035202</td>\n",
              "    </tr>\n",
              "    <tr>\n",
              "      <th>23</th>\n",
              "      <td>23024164</td>\n",
              "      <td>0.187274</td>\n",
              "    </tr>\n",
              "    <tr>\n",
              "      <th>24</th>\n",
              "      <td>45430320</td>\n",
              "      <td>0.185414</td>\n",
              "    </tr>\n",
              "    <tr>\n",
              "      <th>25</th>\n",
              "      <td>46396580</td>\n",
              "      <td>0.257588</td>\n",
              "    </tr>\n",
              "    <tr>\n",
              "      <th>26</th>\n",
              "      <td>58832624</td>\n",
              "      <td>0.197884</td>\n",
              "    </tr>\n",
              "    <tr>\n",
              "      <th>27</th>\n",
              "      <td>14990008</td>\n",
              "      <td>0.216388</td>\n",
              "    </tr>\n",
              "    <tr>\n",
              "      <th>29</th>\n",
              "      <td>66382471</td>\n",
              "      <td>0.193481</td>\n",
              "    </tr>\n",
              "    <tr>\n",
              "      <th>30</th>\n",
              "      <td>69172510</td>\n",
              "      <td>0.160188</td>\n",
              "    </tr>\n",
              "    <tr>\n",
              "      <th>31</th>\n",
              "      <td>12096725</td>\n",
              "      <td>0.264936</td>\n",
              "    </tr>\n",
              "    <tr>\n",
              "      <th>32</th>\n",
              "      <td>69625122</td>\n",
              "      <td>0.176272</td>\n",
              "    </tr>\n",
              "    <tr>\n",
              "      <th>33</th>\n",
              "      <td>21137778</td>\n",
              "      <td>0.199823</td>\n",
              "    </tr>\n",
              "    <tr>\n",
              "      <th>34</th>\n",
              "      <td>57619455</td>\n",
              "      <td>0.314379</td>\n",
              "    </tr>\n",
              "    <tr>\n",
              "      <th>36</th>\n",
              "      <td>14318798</td>\n",
              "      <td>0.211879</td>\n",
              "    </tr>\n",
              "    <tr>\n",
              "      <th>39</th>\n",
              "      <td>11039175</td>\n",
              "      <td>0.204785</td>\n",
              "    </tr>\n",
              "    <tr>\n",
              "      <th>41</th>\n",
              "      <td>17792691</td>\n",
              "      <td>0.149526</td>\n",
              "    </tr>\n",
              "    <tr>\n",
              "      <th>42</th>\n",
              "      <td>65459581</td>\n",
              "      <td>0.173578</td>\n",
              "    </tr>\n",
              "    <tr>\n",
              "      <th>43</th>\n",
              "      <td>65534514</td>\n",
              "      <td>0.247520</td>\n",
              "    </tr>\n",
              "    <tr>\n",
              "      <th>44</th>\n",
              "      <td>49505658</td>\n",
              "      <td>0.180630</td>\n",
              "    </tr>\n",
              "    <tr>\n",
              "      <th>45</th>\n",
              "      <td>49844455</td>\n",
              "      <td>0.173269</td>\n",
              "    </tr>\n",
              "    <tr>\n",
              "      <th>46</th>\n",
              "      <td>31147531</td>\n",
              "      <td>0.147137</td>\n",
              "    </tr>\n",
              "    <tr>\n",
              "      <th>47</th>\n",
              "      <td>70089344</td>\n",
              "      <td>0.283011</td>\n",
              "    </tr>\n",
              "    <tr>\n",
              "      <th>49</th>\n",
              "      <td>44477220</td>\n",
              "      <td>0.094405</td>\n",
              "    </tr>\n",
              "    <tr>\n",
              "      <th>50</th>\n",
              "      <td>69706239</td>\n",
              "      <td>0.153348</td>\n",
              "    </tr>\n",
              "    <tr>\n",
              "      <th>54</th>\n",
              "      <td>4626742</td>\n",
              "      <td>0.151167</td>\n",
              "    </tr>\n",
              "    <tr>\n",
              "      <th>56</th>\n",
              "      <td>13786934</td>\n",
              "      <td>0.275685</td>\n",
              "    </tr>\n",
              "    <tr>\n",
              "      <th>57</th>\n",
              "      <td>60617536</td>\n",
              "      <td>0.234852</td>\n",
              "    </tr>\n",
              "    <tr>\n",
              "      <th>58</th>\n",
              "      <td>4417424</td>\n",
              "      <td>0.204573</td>\n",
              "    </tr>\n",
              "    <tr>\n",
              "      <th>59</th>\n",
              "      <td>7204055</td>\n",
              "      <td>0.230773</td>\n",
              "    </tr>\n",
              "    <tr>\n",
              "      <th>60</th>\n",
              "      <td>33950045</td>\n",
              "      <td>0.262845</td>\n",
              "    </tr>\n",
              "    <tr>\n",
              "      <th>61</th>\n",
              "      <td>12013906</td>\n",
              "      <td>0.042928</td>\n",
              "    </tr>\n",
              "    <tr>\n",
              "      <th>63</th>\n",
              "      <td>15549692</td>\n",
              "      <td>0.197178</td>\n",
              "    </tr>\n",
              "    <tr>\n",
              "      <th>64</th>\n",
              "      <td>71247427</td>\n",
              "      <td>0.406084</td>\n",
              "    </tr>\n",
              "    <tr>\n",
              "      <th>65</th>\n",
              "      <td>2738027</td>\n",
              "      <td>0.270503</td>\n",
              "    </tr>\n",
              "  </tbody>\n",
              "</table>\n",
              "</div>"
            ],
            "text/plain": [
              "    member_id  probability of being defaulter\n",
              "0    11937648                        0.153231\n",
              "1    38983318                        0.116867\n",
              "2    27999917                        0.152686\n",
              "3    61514932                        0.173115\n",
              "4    59622821                        0.187859\n",
              "5    28822038                        0.110019\n",
              "6    10718089                        0.192196\n",
              "7    58114582                        0.245384\n",
              "8    35023176                        0.235314\n",
              "10   15559751                        0.288338\n",
              "12   53958774                        0.122348\n",
              "13    8074949                        0.240241\n",
              "14   67601509                        0.118740\n",
              "15   65560239                        0.191490\n",
              "16   14767770                        0.225309\n",
              "18    9899439                        0.270503\n",
              "19   15120294                        0.166411\n",
              "20   12019444                        0.035202\n",
              "23   23024164                        0.187274\n",
              "24   45430320                        0.185414\n",
              "25   46396580                        0.257588\n",
              "26   58832624                        0.197884\n",
              "27   14990008                        0.216388\n",
              "29   66382471                        0.193481\n",
              "30   69172510                        0.160188\n",
              "31   12096725                        0.264936\n",
              "32   69625122                        0.176272\n",
              "33   21137778                        0.199823\n",
              "34   57619455                        0.314379\n",
              "36   14318798                        0.211879\n",
              "39   11039175                        0.204785\n",
              "41   17792691                        0.149526\n",
              "42   65459581                        0.173578\n",
              "43   65534514                        0.247520\n",
              "44   49505658                        0.180630\n",
              "45   49844455                        0.173269\n",
              "46   31147531                        0.147137\n",
              "47   70089344                        0.283011\n",
              "49   44477220                        0.094405\n",
              "50   69706239                        0.153348\n",
              "54    4626742                        0.151167\n",
              "56   13786934                        0.275685\n",
              "57   60617536                        0.234852\n",
              "58    4417424                        0.204573\n",
              "59    7204055                        0.230773\n",
              "60   33950045                        0.262845\n",
              "61   12013906                        0.042928\n",
              "63   15549692                        0.197178\n",
              "64   71247427                        0.406084\n",
              "65    2738027                        0.270503"
            ]
          },
          "metadata": {},
          "execution_count": 62
        }
      ]
    }
  ]
}